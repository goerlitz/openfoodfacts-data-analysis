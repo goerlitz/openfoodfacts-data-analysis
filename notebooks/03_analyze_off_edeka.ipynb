{
 "cells": [
  {
   "cell_type": "markdown",
   "id": "4e4c75a6-7ff6-4e45-b1aa-6aa64b3cd854",
   "metadata": {},
   "source": [
    "# Analyze Edeka Products\n",
    "\n",
    "### Brands\n",
    "\n",
    "https://www.edeka.de/unsere-marken/index.jsp\n",
    "\n",
    "- Edeka\n",
    "- Edeka Bio\n",
    "- Gut & Günstig\n",
    "- ..."
   ]
  },
  {
   "cell_type": "code",
   "execution_count": 1,
   "id": "ac5a8b9a-2f2a-4f11-a833-cab01ecde608",
   "metadata": {},
   "outputs": [],
   "source": [
    "import pandas as pd\n",
    "import matplotlib.pyplot as plt\n",
    "from urllib.request import urlopen, urlretrieve\n",
    "from urllib.parse import urlencode\n",
    "from pathlib import Path\n",
    "import json\n",
    "import math\n",
    "from typing import Union\n",
    "from slugify import slugify"
   ]
  },
  {
   "cell_type": "code",
   "execution_count": 2,
   "id": "352c4363-417f-4314-85d9-89af181274a2",
   "metadata": {},
   "outputs": [],
   "source": [
    "scope = \"de\"\n",
    "API_URL = f\"https://{scope}.openfoodfacts.org/api/v2/search?\"\n",
    "\n",
    "# no_nutrition_data, nutrition_data_per, nutrition_data_prepared_per, serving_size\n",
    "# nutriscore_grade\n",
    "\n",
    "PARAMS = {\n",
    "    \"page_size\": 1000,\n",
    "#    \"states_tags\": \"nutrition-facts-completed\",\n",
    "    \"brands_tags\": \"Edeka\",\n",
    "    \"sort_by\": \"unique_scans_n\",\n",
    "    \"fields\": \"code,brands,stores,product_name,categories,nutriscore_grade,ecoscore_grade,nova_group,compared_to_category,unique_scans_n\"\n",
    "}\n",
    "\n",
    "DATA_FILE = f\"./off_{scope}_edeka_top1000.json\"\n",
    "\n",
    "# skip download if data has been downloaded before\n",
    "if not Path(DATA_FILE).exists():\n",
    "    urlretrieve(API_URL + urlencode(PARAMS), DATA_FILE)"
   ]
  },
  {
   "cell_type": "markdown",
   "id": "a997f97e-e145-4d23-9f62-f72db2958707",
   "metadata": {},
   "source": [
    "## Data Preparation"
   ]
  },
  {
   "cell_type": "code",
   "execution_count": 3,
   "id": "e4285241-3381-488e-b539-df9a661d5767",
   "metadata": {},
   "outputs": [
    {
     "data": {
      "text/html": [
       "<div>\n",
       "<style scoped>\n",
       "    .dataframe tbody tr th:only-of-type {\n",
       "        vertical-align: middle;\n",
       "    }\n",
       "\n",
       "    .dataframe tbody tr th {\n",
       "        vertical-align: top;\n",
       "    }\n",
       "\n",
       "    .dataframe thead th {\n",
       "        text-align: right;\n",
       "    }\n",
       "</style>\n",
       "<table border=\"1\" class=\"dataframe\">\n",
       "  <thead>\n",
       "    <tr style=\"text-align: right;\">\n",
       "      <th></th>\n",
       "      <th>brands</th>\n",
       "      <th>ecoscore_grade</th>\n",
       "      <th>nova_group</th>\n",
       "      <th>nutriscore_grade</th>\n",
       "      <th>product_name</th>\n",
       "      <th>stores</th>\n",
       "      <th>unique_scans_n</th>\n",
       "      <th>brand</th>\n",
       "    </tr>\n",
       "    <tr>\n",
       "      <th>code</th>\n",
       "      <th></th>\n",
       "      <th></th>\n",
       "      <th></th>\n",
       "      <th></th>\n",
       "      <th></th>\n",
       "      <th></th>\n",
       "      <th></th>\n",
       "      <th></th>\n",
       "    </tr>\n",
       "  </thead>\n",
       "  <tbody>\n",
       "    <tr>\n",
       "      <th>4311501489819</th>\n",
       "      <td>Gut &amp; Günstig, Edeka</td>\n",
       "      <td>c</td>\n",
       "      <td>1.0</td>\n",
       "      <td>a</td>\n",
       "      <td>H-Milch 1,5%</td>\n",
       "      <td>Edeka</td>\n",
       "      <td>53</td>\n",
       "      <td>Gut &amp; Günstig</td>\n",
       "    </tr>\n",
       "    <tr>\n",
       "      <th>4311501695135</th>\n",
       "      <td>Edeka Bio,Edeka</td>\n",
       "      <td>b</td>\n",
       "      <td>3.0</td>\n",
       "      <td>b</td>\n",
       "      <td>Haferdrink Classic</td>\n",
       "      <td>Edeka,Konsum</td>\n",
       "      <td>30</td>\n",
       "      <td>Edeka Bio</td>\n",
       "    </tr>\n",
       "    <tr>\n",
       "      <th>4311596440429</th>\n",
       "      <td>Gut &amp; Günstig, Edeka</td>\n",
       "      <td>b</td>\n",
       "      <td>1.0</td>\n",
       "      <td>a</td>\n",
       "      <td>Tomaten passiert</td>\n",
       "      <td>EDEKA,Marktkauf</td>\n",
       "      <td>28</td>\n",
       "      <td>Gut &amp; Günstig</td>\n",
       "    </tr>\n",
       "    <tr>\n",
       "      <th>4311501687734</th>\n",
       "      <td>Gut &amp; Günstig,Edeka, Gut &amp; Günstig, Gut &amp; Günstig</td>\n",
       "      <td>d</td>\n",
       "      <td>3.0</td>\n",
       "      <td>d</td>\n",
       "      <td>Käse Frischkäse Pur</td>\n",
       "      <td>Edeka</td>\n",
       "      <td>23</td>\n",
       "      <td>Gut &amp; Günstig</td>\n",
       "    </tr>\n",
       "    <tr>\n",
       "      <th>4311501492246</th>\n",
       "      <td>Gut &amp; Günstig, Edeka, Gut &amp; Günstig, Gut &amp; Gün...</td>\n",
       "      <td>b</td>\n",
       "      <td>1.0</td>\n",
       "      <td>a</td>\n",
       "      <td>Haferflocken extra zart</td>\n",
       "      <td>Edeka</td>\n",
       "      <td>22</td>\n",
       "      <td>Gut &amp; Günstig</td>\n",
       "    </tr>\n",
       "    <tr>\n",
       "      <th>...</th>\n",
       "      <td>...</td>\n",
       "      <td>...</td>\n",
       "      <td>...</td>\n",
       "      <td>...</td>\n",
       "      <td>...</td>\n",
       "      <td>...</td>\n",
       "      <td>...</td>\n",
       "      <td>...</td>\n",
       "    </tr>\n",
       "    <tr>\n",
       "      <th>4311501760079</th>\n",
       "      <td>Gut &amp; Günstig, Edeka</td>\n",
       "      <td>unknown</td>\n",
       "      <td>4.0</td>\n",
       "      <td>d</td>\n",
       "      <td>Mozzarella Sticks</td>\n",
       "      <td>Edeka</td>\n",
       "      <td>2</td>\n",
       "      <td>Gut &amp; Günstig</td>\n",
       "    </tr>\n",
       "    <tr>\n",
       "      <th>4311501698242</th>\n",
       "      <td>Edeka</td>\n",
       "      <td>d</td>\n",
       "      <td>2.0</td>\n",
       "      <td>c</td>\n",
       "      <td>Natives Olivenöl extra</td>\n",
       "      <td>NaN</td>\n",
       "      <td>2</td>\n",
       "      <td>Edeka</td>\n",
       "    </tr>\n",
       "    <tr>\n",
       "      <th>4311501351536</th>\n",
       "      <td>Edeka</td>\n",
       "      <td>a</td>\n",
       "      <td>NaN</td>\n",
       "      <td>a</td>\n",
       "      <td>Champignons pilze</td>\n",
       "      <td>NaN</td>\n",
       "      <td>2</td>\n",
       "      <td>Edeka</td>\n",
       "    </tr>\n",
       "    <tr>\n",
       "      <th>4311501344941</th>\n",
       "      <td>Edeka</td>\n",
       "      <td>b</td>\n",
       "      <td>1.0</td>\n",
       "      <td>a</td>\n",
       "      <td>Fusilli</td>\n",
       "      <td>NaN</td>\n",
       "      <td>2</td>\n",
       "      <td>Edeka</td>\n",
       "    </tr>\n",
       "    <tr>\n",
       "      <th>4311596413799</th>\n",
       "      <td>Gut &amp; Günstig, Edeka</td>\n",
       "      <td>unknown</td>\n",
       "      <td>4.0</td>\n",
       "      <td>c</td>\n",
       "      <td>Farfalle mit Käse-Krauter-Sauce</td>\n",
       "      <td></td>\n",
       "      <td>2</td>\n",
       "      <td>Gut &amp; Günstig</td>\n",
       "    </tr>\n",
       "  </tbody>\n",
       "</table>\n",
       "<p>1000 rows × 8 columns</p>\n",
       "</div>"
      ],
      "text/plain": [
       "                                                          brands  \\\n",
       "code                                                               \n",
       "4311501489819                               Gut & Günstig, Edeka   \n",
       "4311501695135                                    Edeka Bio,Edeka   \n",
       "4311596440429                               Gut & Günstig, Edeka   \n",
       "4311501687734  Gut & Günstig,Edeka, Gut & Günstig, Gut & Günstig   \n",
       "4311501492246  Gut & Günstig, Edeka, Gut & Günstig, Gut & Gün...   \n",
       "...                                                          ...   \n",
       "4311501760079                               Gut & Günstig, Edeka   \n",
       "4311501698242                                              Edeka   \n",
       "4311501351536                                              Edeka   \n",
       "4311501344941                                              Edeka   \n",
       "4311596413799                               Gut & Günstig, Edeka   \n",
       "\n",
       "              ecoscore_grade  nova_group nutriscore_grade  \\\n",
       "code                                                        \n",
       "4311501489819              c         1.0                a   \n",
       "4311501695135              b         3.0                b   \n",
       "4311596440429              b         1.0                a   \n",
       "4311501687734              d         3.0                d   \n",
       "4311501492246              b         1.0                a   \n",
       "...                      ...         ...              ...   \n",
       "4311501760079        unknown         4.0                d   \n",
       "4311501698242              d         2.0                c   \n",
       "4311501351536              a         NaN                a   \n",
       "4311501344941              b         1.0                a   \n",
       "4311596413799        unknown         4.0                c   \n",
       "\n",
       "                                  product_name           stores  \\\n",
       "code                                                              \n",
       "4311501489819                     H-Milch 1,5%            Edeka   \n",
       "4311501695135               Haferdrink Classic     Edeka,Konsum   \n",
       "4311596440429                 Tomaten passiert  EDEKA,Marktkauf   \n",
       "4311501687734              Käse Frischkäse Pur            Edeka   \n",
       "4311501492246          Haferflocken extra zart            Edeka   \n",
       "...                                        ...              ...   \n",
       "4311501760079                Mozzarella Sticks            Edeka   \n",
       "4311501698242           Natives Olivenöl extra              NaN   \n",
       "4311501351536                Champignons pilze              NaN   \n",
       "4311501344941                          Fusilli              NaN   \n",
       "4311596413799  Farfalle mit Käse-Krauter-Sauce                    \n",
       "\n",
       "               unique_scans_n          brand  \n",
       "code                                          \n",
       "4311501489819              53  Gut & Günstig  \n",
       "4311501695135              30      Edeka Bio  \n",
       "4311596440429              28  Gut & Günstig  \n",
       "4311501687734              23  Gut & Günstig  \n",
       "4311501492246              22  Gut & Günstig  \n",
       "...                       ...            ...  \n",
       "4311501760079               2  Gut & Günstig  \n",
       "4311501698242               2          Edeka  \n",
       "4311501351536               2          Edeka  \n",
       "4311501344941               2          Edeka  \n",
       "4311596413799               2  Gut & Günstig  \n",
       "\n",
       "[1000 rows x 8 columns]"
      ]
     },
     "metadata": {},
     "output_type": "display_data"
    }
   ],
   "source": [
    "# load json file\n",
    "with open(DATA_FILE) as f:\n",
    "    data = json.load(f)\n",
    "\n",
    "# create data frame from product information\n",
    "prod_df = (pd.DataFrame(data['products'])\n",
    "            .drop(['categories', 'compared_to_category'], axis=1)\n",
    "            .set_index('code')\n",
    "          )\n",
    "\n",
    "def is_flag(value: Union[str, int]):\n",
    "    try:\n",
    "        return 1 == (int(value) if isinstance(value, str) and value != \"\" else value)\n",
    "    except ValueError as e:\n",
    "        print(f\"cannot parse {value}\", e)\n",
    "        return False\n",
    "\n",
    "# extract product type flags and energy values\n",
    "flags = [\"is_beverage\", \"is_cheese\", \"is_fat\", \"is_water\"]\n",
    "\n",
    "# process brands\n",
    "prod_df[\"brand\"] = prod_df.brands.map(lambda x: slugify(x)).map(lambda x: \"Gut & Günstig\" if \"gut\" in x and \"gunstig\" in x else (\"Edeka Bio\" if \"edeka-bio\" in x else \"Edeka\"))\n",
    "\n",
    "display(prod_df)"
   ]
  },
  {
   "cell_type": "markdown",
   "id": "c93c6a9b-887d-4b6b-a4ea-40af9c5f3f75",
   "metadata": {},
   "source": [
    "# Exploratory Data Analysis\n",
    "\n",
    "### Brands\n",
    "\n",
    "Unfortunately, many different spelling variations of the same brand"
   ]
  },
  {
   "cell_type": "code",
   "execution_count": 4,
   "id": "96c05b7a-28bc-4d3f-9102-8f372f4a6108",
   "metadata": {},
   "outputs": [
    {
     "data": {
      "text/plain": [
       "brand\n",
       "Edeka            637\n",
       "Gut & Günstig    287\n",
       "Edeka Bio         76\n",
       "Name: count, dtype: int64"
      ]
     },
     "execution_count": 4,
     "metadata": {},
     "output_type": "execute_result"
    }
   ],
   "source": [
    "prod_df.brand.value_counts()"
   ]
  },
  {
   "cell_type": "code",
   "execution_count": 5,
   "id": "1a5a6236-5e7d-4cce-a5aa-b7ebc40ecf7c",
   "metadata": {},
   "outputs": [
    {
     "data": {
      "text/plain": [
       "Edeka                  912\n",
       "Gut & Günstig          498\n",
       "GUT&GÜNSTIG            292\n",
       "EDEKA                   84\n",
       "Edeka Gut & Günstig     74\n",
       "                      ... \n",
       "3x Edeka 01.24           1\n",
       "2x Edeka 01.24           1\n",
       "1x Edeka 01.24           1\n",
       "EDEKA My Veggie          1\n",
       "Globus                   1\n",
       "Name: count, Length: 94, dtype: int64"
      ]
     },
     "execution_count": 5,
     "metadata": {},
     "output_type": "execute_result"
    }
   ],
   "source": [
    "# brands\n",
    "prod_df.brands.map(lambda x: x.split(\",\"))\n",
    "brands_s = pd.Series([brand for brands in prod_df.brands for brand in map(lambda x: x.strip(), brands.split(\",\"))])\n",
    "brands_s.value_counts()"
   ]
  },
  {
   "cell_type": "markdown",
   "id": "47d85aac-864f-40be-ae36-a87643cfce72",
   "metadata": {},
   "source": [
    "### Stores"
   ]
  },
  {
   "cell_type": "code",
   "execution_count": 6,
   "id": "0f398567-3340-450f-b9f0-0bde00c93679",
   "metadata": {},
   "outputs": [
    {
     "data": {
      "text/plain": [
       "stores\n",
       "Edeka                 401\n",
       "NaN                   284\n",
       "                      212\n",
       "EDEKA                  44\n",
       "Marktkauf              10\n",
       "Edeka,Marktkauf        10\n",
       "Marktkauf,Edeka         8\n",
       "Edeka,Bringmeister      5\n",
       "Marktkauf, Edeka        4\n",
       "Netto                   2\n",
       "Edeka,Konsum            2\n",
       "Konsum                  2\n",
       "Marktkauf,EDEKA         2\n",
       "Spar,Edeka              1\n",
       "kupsch,Edeka            1\n",
       "Konsum,Edeka            1\n",
       "Edeka,Alnatura          1\n",
       "EDEKA,Kupsch            1\n",
       "REWE,Edeka              1\n",
       "EDEKA,Marktkauf         1\n",
       "EDEKA,Netto             1\n",
       "Carrefour               1\n",
       "Edeka Jensen            1\n",
       "Edeka,NP                1\n",
       "Alnatura                1\n",
       "Aldi Süd                1\n",
       "Edeka,Picnic            1\n",
       "Name: count, dtype: int64"
      ]
     },
     "execution_count": 6,
     "metadata": {},
     "output_type": "execute_result"
    }
   ],
   "source": [
    "prod_df.stores.value_counts(dropna=False)"
   ]
  },
  {
   "cell_type": "code",
   "execution_count": 7,
   "id": "462a8490-77ca-408a-ad38-9a1e2a7fe607",
   "metadata": {},
   "outputs": [
    {
     "data": {
      "text/plain": [
       "Edeka           486\n",
       "NaN             284\n",
       "                212\n",
       "Marktkauf        35\n",
       "Konsum            5\n",
       "Bringmeister      5\n",
       "Netto             3\n",
       "Kupsch            2\n",
       "Alnatura          2\n",
       "Rewe              1\n",
       "Spar              1\n",
       "Carrefour         1\n",
       "Edeka jensen      1\n",
       "Np                1\n",
       "Aldi süd          1\n",
       "Picnic            1\n",
       "Name: count, dtype: int64"
      ]
     },
     "execution_count": 7,
     "metadata": {},
     "output_type": "execute_result"
    }
   ],
   "source": [
    "normalize = lambda x: x.strip().lower().capitalize()\n",
    "stores_s = pd.Series([store for stores in prod_df.stores for store in (map(normalize, stores.split(\",\")) if isinstance(stores, str) else [stores])])\n",
    "stores_s.value_counts(dropna=False)"
   ]
  },
  {
   "cell_type": "markdown",
   "id": "95189995-ab2a-4d1b-ac40-ec3389e2e44b",
   "metadata": {},
   "source": [
    "### Nutri-Score"
   ]
  },
  {
   "cell_type": "code",
   "execution_count": 8,
   "id": "a6e9cbaa-b898-4d2b-a1ac-14317df1a0b4",
   "metadata": {},
   "outputs": [],
   "source": [
    "nutriscore_colors = ['#00BF00', '#73FF00', '#FFCC00', '#FF6600', '#FF1900', '#000', '#555', '#777']"
   ]
  },
  {
   "cell_type": "code",
   "execution_count": 9,
   "id": "bbc23f5b-7808-459f-be4a-07fbf82c9e2b",
   "metadata": {},
   "outputs": [
    {
     "data": {
      "image/png": "[encoded data removed]",
      "text/plain": [
       "<Figure size 600x300 with 1 Axes>"
      ]
     },
     "metadata": {},
     "output_type": "display_data"
    }
   ],
   "source": [
    "prod_df.groupby(\"brand\").nutriscore_grade.value_counts(dropna=False).sort_index(ascending=True).unstack().plot.barh(color=nutriscore_colors, figsize=(6,3), width=0.8, title=\"Edeka Marken - Nutri-Score Verteilung\")\n",
    "\n",
    "ax = plt.gca()\n",
    "ax.invert_yaxis()\n",
    "\n",
    "# Shrink current axis by 20%\n",
    "box = ax.get_position()\n",
    "ax.set_position([box.x0, box.y0, box.width * 0.8, box.height])\n",
    "\n",
    "# Put a legend to the right of the current axis\n",
    "ax.legend(loc='center left', bbox_to_anchor=(1, 0.5))\n",
    "ax.set_ylabel(None)\n",
    "ax.set_xlabel(\"Anzahl Produkte\");"
   ]
  },
  {
   "cell_type": "code",
   "execution_count": 10,
   "id": "c4420153-1bc1-4034-9008-6f144ef62caf",
   "metadata": {},
   "outputs": [
    {
     "data": {
      "image/png": "[encoded data removed]",
      "text/plain": [
       "<Figure size 600x300 with 1 Axes>"
      ]
     },
     "metadata": {},
     "output_type": "display_data"
    }
   ],
   "source": [
    "prod_df.groupby(\"brand\").ecoscore_grade.value_counts(dropna=False).sort_index(ascending=True).unstack().plot.barh(color=nutriscore_colors, figsize=(6,3), width=0.8, title=\"Edeka Marken - Eco-Score Verteilung\")\n",
    "\n",
    "ax = plt.gca()\n",
    "ax.invert_yaxis()\n",
    "\n",
    "# Shrink current axis by 20%\n",
    "box = ax.get_position()\n",
    "ax.set_position([box.x0, box.y0, box.width * 0.8, box.height])\n",
    "\n",
    "# Put a legend to the right of the current axis\n",
    "ax.legend(loc='center left', bbox_to_anchor=(1, 0.5))\n",
    "ax.set_ylabel(None)\n",
    "ax.set_xlabel(\"Anzahl Produkte\");"
   ]
  },
  {
   "cell_type": "code",
   "execution_count": 11,
   "id": "d6a85e28-3a32-4c16-8d6c-3764dd62b9d2",
   "metadata": {},
   "outputs": [
    {
     "data": {
      "image/png": "[encoded data removed]",
      "text/plain": [
       "<Figure size 500x200 with 1 Axes>"
      ]
     },
     "metadata": {},
     "output_type": "display_data"
    }
   ],
   "source": [
    "prod_df.ecoscore_grade.value_counts(dropna=False).sort_index(ascending=False).plot.barh(figsize=(5,2), title=\"Eco-Score\");"
   ]
  },
  {
   "cell_type": "code",
   "execution_count": 12,
   "id": "7ac9bebe-5e1f-4db1-a06d-d1d58a6990c6",
   "metadata": {},
   "outputs": [
    {
     "data": {
      "image/png": "[encoded data removed]",
      "text/plain": [
       "<Figure size 500x200 with 1 Axes>"
      ]
     },
     "metadata": {},
     "output_type": "display_data"
    }
   ],
   "source": [
    "prod_df.nova_group.value_counts(dropna=False).sort_index(ascending=False).plot.barh(figsize=(5,2), title=\"Nova Group\");"
   ]
  },
  {
   "cell_type": "code",
   "execution_count": null,
   "id": "1efb78ca-e364-4d6e-9aa2-f94019d3f32d",
   "metadata": {},
   "outputs": [],
   "source": []
  }
 ],
 "metadata": {
  "kernelspec": {
   "display_name": "Python 3 (ipykernel)",
   "language": "python",
   "name": "python3"
  },
  "language_info": {
   "codemirror_mode": {
    "name": "ipython",
    "version": 3
   },
   "file_extension": ".py",
   "mimetype": "text/x-python",
   "name": "python",
   "nbconvert_exporter": "python",
   "pygments_lexer": "ipython3",
   "version": "3.11.6"
  }
 },
 "nbformat": 4,
 "nbformat_minor": 5
}
