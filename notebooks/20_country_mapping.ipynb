{
 "cells": [
  {
   "cell_type": "markdown",
   "id": "9e0e27c6-40c1-4b43-a740-b4a416fefa05",
   "metadata": {},
   "source": [
    "# Analysis of Country Tags and Mapping to Country Codes\n",
    "\n",
    "Goal: have a standardized association of products with countries through country codes.\n",
    "\n",
    "Data source is the OpenFoodFacts `country_tags` field. The values are country names in several languages.\n",
    "\n",
    "Correct mapping is complicated due to several issues:\n",
    "- wrong lc prefix for country name\n",
    "- wrong country name, e.g. russia for russian federation"
   ]
  },
  {
   "cell_type": "code",
   "execution_count": 1,
   "id": "1ee4c241-ca17-445f-979e-1d08abe65a4a",
   "metadata": {},
   "outputs": [],
   "source": [
    "import pandas as pd\n",
    "import gettext\n",
    "import unicodedata\n",
    "from pycountry import countries, LOCALES_DIR"
   ]
  },
  {
   "cell_type": "code",
   "execution_count": 2,
   "id": "321e5ebf-26ba-40c9-bbac-f30e18045d9e",
   "metadata": {},
   "outputs": [
    {
     "data": {
      "text/html": [
       "<div>\n",
       "<style scoped>\n",
       "    .dataframe tbody tr th:only-of-type {\n",
       "        vertical-align: middle;\n",
       "    }\n",
       "\n",
       "    .dataframe tbody tr th {\n",
       "        vertical-align: top;\n",
       "    }\n",
       "\n",
       "    .dataframe thead th {\n",
       "        text-align: right;\n",
       "    }\n",
       "</style>\n",
       "<table border=\"1\" class=\"dataframe\">\n",
       "  <thead>\n",
       "    <tr style=\"text-align: right;\">\n",
       "      <th></th>\n",
       "      <th>country</th>\n",
       "      <th>frequency</th>\n",
       "    </tr>\n",
       "  </thead>\n",
       "  <tbody>\n",
       "    <tr>\n",
       "      <th>0</th>\n",
       "      <td>en:france</td>\n",
       "      <td>1109929</td>\n",
       "    </tr>\n",
       "    <tr>\n",
       "      <th>1</th>\n",
       "      <td>en:united-states</td>\n",
       "      <td>712983</td>\n",
       "    </tr>\n",
       "    <tr>\n",
       "      <th>2</th>\n",
       "      <td>en:spain</td>\n",
       "      <td>333584</td>\n",
       "    </tr>\n",
       "    <tr>\n",
       "      <th>3</th>\n",
       "      <td>en:germany</td>\n",
       "      <td>319896</td>\n",
       "    </tr>\n",
       "    <tr>\n",
       "      <th>4</th>\n",
       "      <td>en:italy</td>\n",
       "      <td>250943</td>\n",
       "    </tr>\n",
       "  </tbody>\n",
       "</table>\n",
       "</div>"
      ],
      "text/plain": [
       "            country  frequency\n",
       "0         en:france    1109929\n",
       "1  en:united-states     712983\n",
       "2          en:spain     333584\n",
       "3        en:germany     319896\n",
       "4          en:italy     250943"
      ]
     },
     "execution_count": 2,
     "metadata": {},
     "output_type": "execute_result"
    }
   ],
   "source": [
    "# Load the file\n",
    "file_path = \"../data/countries_frequency.csv\"\n",
    "df = pd.read_csv(file_path)\n",
    "\n",
    "# Display the first few rows to inspect the structure of the data\n",
    "df.head()"
   ]
  },
  {
   "cell_type": "markdown",
   "id": "0ca45abd-b3ea-4fd0-98da-645ac032e13a",
   "metadata": {},
   "source": [
    "## Using pycountry"
   ]
  },
  {
   "cell_type": "code",
   "execution_count": 3,
   "id": "a8ac62d7-d001-4119-a378-3068f890f734",
   "metadata": {},
   "outputs": [
    {
     "data": {
      "text/html": [
       "<div>\n",
       "<style scoped>\n",
       "    .dataframe tbody tr th:only-of-type {\n",
       "        vertical-align: middle;\n",
       "    }\n",
       "\n",
       "    .dataframe tbody tr th {\n",
       "        vertical-align: top;\n",
       "    }\n",
       "\n",
       "    .dataframe thead th {\n",
       "        text-align: right;\n",
       "    }\n",
       "</style>\n",
       "<table border=\"1\" class=\"dataframe\">\n",
       "  <thead>\n",
       "    <tr style=\"text-align: right;\">\n",
       "      <th></th>\n",
       "      <th>country</th>\n",
       "      <th>frequency</th>\n",
       "      <th>code</th>\n",
       "      <th>flag</th>\n",
       "    </tr>\n",
       "  </thead>\n",
       "  <tbody>\n",
       "    <tr>\n",
       "      <th>0</th>\n",
       "      <td>en:france</td>\n",
       "      <td>1109929</td>\n",
       "      <td>FR</td>\n",
       "      <td>🇫🇷</td>\n",
       "    </tr>\n",
       "    <tr>\n",
       "      <th>1</th>\n",
       "      <td>en:united-states</td>\n",
       "      <td>712983</td>\n",
       "      <td>US</td>\n",
       "      <td>🇺🇸</td>\n",
       "    </tr>\n",
       "    <tr>\n",
       "      <th>2</th>\n",
       "      <td>en:spain</td>\n",
       "      <td>333584</td>\n",
       "      <td>ES</td>\n",
       "      <td>🇪🇸</td>\n",
       "    </tr>\n",
       "    <tr>\n",
       "      <th>3</th>\n",
       "      <td>en:germany</td>\n",
       "      <td>319896</td>\n",
       "      <td>DE</td>\n",
       "      <td>🇩🇪</td>\n",
       "    </tr>\n",
       "    <tr>\n",
       "      <th>4</th>\n",
       "      <td>en:italy</td>\n",
       "      <td>250943</td>\n",
       "      <td>IT</td>\n",
       "      <td>🇮🇹</td>\n",
       "    </tr>\n",
       "    <tr>\n",
       "      <th>...</th>\n",
       "      <td>...</td>\n",
       "      <td>...</td>\n",
       "      <td>...</td>\n",
       "      <td>...</td>\n",
       "    </tr>\n",
       "    <tr>\n",
       "      <th>672</th>\n",
       "      <td>ar:المغرب-🇲🇦</td>\n",
       "      <td>1</td>\n",
       "      <td>None</td>\n",
       "      <td>None</td>\n",
       "    </tr>\n",
       "    <tr>\n",
       "      <th>673</th>\n",
       "      <td>en:meksyk</td>\n",
       "      <td>1</td>\n",
       "      <td>None</td>\n",
       "      <td>None</td>\n",
       "    </tr>\n",
       "    <tr>\n",
       "      <th>674</th>\n",
       "      <td>en:ประเทศฝรั่งเศส</td>\n",
       "      <td>1</td>\n",
       "      <td>None</td>\n",
       "      <td>None</td>\n",
       "    </tr>\n",
       "    <tr>\n",
       "      <th>675</th>\n",
       "      <td>en:dkmdmd</td>\n",
       "      <td>1</td>\n",
       "      <td>None</td>\n",
       "      <td>None</td>\n",
       "    </tr>\n",
       "    <tr>\n",
       "      <th>676</th>\n",
       "      <td>en:اوروبا</td>\n",
       "      <td>1</td>\n",
       "      <td>None</td>\n",
       "      <td>None</td>\n",
       "    </tr>\n",
       "  </tbody>\n",
       "</table>\n",
       "<p>677 rows × 4 columns</p>\n",
       "</div>"
      ],
      "text/plain": [
       "               country  frequency  code  flag\n",
       "0            en:france    1109929    FR    🇫🇷\n",
       "1     en:united-states     712983    US    🇺🇸\n",
       "2             en:spain     333584    ES    🇪🇸\n",
       "3           en:germany     319896    DE    🇩🇪\n",
       "4             en:italy     250943    IT    🇮🇹\n",
       "..                 ...        ...   ...   ...\n",
       "672       ar:المغرب-🇲🇦          1  None  None\n",
       "673          en:meksyk          1  None  None\n",
       "674  en:ประเทศฝรั่งเศส          1  None  None\n",
       "675          en:dkmdmd          1  None  None\n",
       "676          en:اوروبا          1  None  None\n",
       "\n",
       "[677 rows x 4 columns]"
      ]
     },
     "execution_count": 3,
     "metadata": {},
     "output_type": "execute_result"
    }
   ],
   "source": [
    "def remove_prefix(name):\n",
    "    return name.split(\":\", 1)[-1]  # Remove the prefix (e.g., \"en:\", \"fr:\")\n",
    "\n",
    "def replace_dash(name):\n",
    "    return name.replace(\"-\", \" \")\n",
    "\n",
    "def get_country_info(name):\n",
    "    try:\n",
    "        country = countries.lookup(name)\n",
    "        country_code = country.alpha_2\n",
    "        #flag = chr(127397 + ord(country_code[0])) + chr(127397 + ord(country_code[1]))\n",
    "        flag = country.flag\n",
    "        return country_code, flag\n",
    "    except LookupError:\n",
    "        return None, None\n",
    "\n",
    "country_map = {\n",
    "    \"russia\": \"Russian Federation\",\n",
    "    \"turkey\": \"Türkiye\",\n",
    "    \"turkiye\": \"Türkiye\",\n",
    "    \"brunei\": \"Brunei Darussalam\",\n",
    "    \"the bahamas\": \"Bahamas\",\n",
    "    \"reunion\": \"Réunion\",\n",
    "    \"france la reunion\": \"Réunion\",\n",
    "    \"deutschland\": \"Germany\",\n",
    "    \"frankreich\": \"France\",\n",
    "    \"schweiz\": \"Switzerland\",\n",
    "    \"vereinigte staaten von amerika\": \"United States\",\n",
    "    \"francia\": \"France\",\n",
    "    \"belgique\": \"Belgium\",\n",
    "    \"etats unis\": \"United States\",\n",
    "    \"estados unidos\": \"United States\",\n",
    "    \"cote d ivoire\": \"Côte d'Ivoire\",\n",
    "    \"palestinian territories\": \"Palestine, State of\",\n",
    "    \"democratic republic of the congo\": \"Congo, The Democratic Republic of the\",\n",
    "    \"ישראל\": \"Israel\",\n",
    "}\n",
    "\n",
    "def map_country_names(name):\n",
    "    if name in country_map:\n",
    "        return country_map[name]\n",
    "    return name\n",
    "\n",
    "#df.country.apply(remove_prefix).apply(replace_dash)\n",
    "\n",
    "result = df.country.apply(remove_prefix).apply(replace_dash).apply(map_country_names).apply(get_country_info)\n",
    "# df[[\"country_code\", \"emoji_flag\"]] =\n",
    "\n",
    "\n",
    "result = pd.DataFrame.from_records(result, columns=[\"code\", \"flag\"])\n",
    "\n",
    "countries_df = df.merge(result, left_index=True, right_index=True)\n",
    "countries_df"
   ]
  },
  {
   "cell_type": "code",
   "execution_count": 4,
   "id": "cf5170a2-fd21-4696-8f89-c05ea080613b",
   "metadata": {},
   "outputs": [
    {
     "data": {
      "text/plain": [
       "Country(alpha_2='RU', alpha_3='RUS', flag='🇷🇺', name='Russian Federation', numeric='643')"
      ]
     },
     "execution_count": 4,
     "metadata": {},
     "output_type": "execute_result"
    }
   ],
   "source": [
    "countries.get(alpha_2='RU')"
   ]
  },
  {
   "cell_type": "code",
   "execution_count": 5,
   "id": "e89a568b-0649-419c-a0d5-04dc9680d710",
   "metadata": {},
   "outputs": [
    {
     "data": {
      "text/plain": [
       "Country(alpha_2='TR', alpha_3='TUR', flag='🇹🇷', name='Türkiye', numeric='792', official_name='Republic of Türkiye')"
      ]
     },
     "execution_count": 5,
     "metadata": {},
     "output_type": "execute_result"
    }
   ],
   "source": [
    "countries.get(alpha_2='TR')"
   ]
  },
  {
   "cell_type": "code",
   "execution_count": 6,
   "id": "72400b30-c3f9-40c4-b6d7-818760f16872",
   "metadata": {},
   "outputs": [
    {
     "data": {
      "text/plain": [
       "Country(alpha_2='RE', alpha_3='REU', flag='🇷🇪', name='Réunion', numeric='638')"
      ]
     },
     "execution_count": 6,
     "metadata": {},
     "output_type": "execute_result"
    }
   ],
   "source": [
    "countries.get(alpha_2='RE')"
   ]
  },
  {
   "cell_type": "code",
   "execution_count": 7,
   "id": "654a6769-3e30-46d1-a40d-98f9e9bfec12",
   "metadata": {},
   "outputs": [
    {
     "data": {
      "text/plain": [
       "Country(alpha_2='AX', alpha_3='ALA', flag='🇦🇽', name='Åland Islands', numeric='248')"
      ]
     },
     "execution_count": 7,
     "metadata": {},
     "output_type": "execute_result"
    }
   ],
   "source": [
    "countries.get(alpha_2='AX')"
   ]
  },
  {
   "cell_type": "code",
   "execution_count": 8,
   "id": "fc2153b3-c127-48f4-8a6e-6f6c15110586",
   "metadata": {},
   "outputs": [
    {
     "data": {
      "text/plain": [
       "Country(alpha_2='CI', alpha_3='CIV', flag='🇨🇮', name=\"Côte d'Ivoire\", numeric='384', official_name=\"Republic of Côte d'Ivoire\")"
      ]
     },
     "execution_count": 8,
     "metadata": {},
     "output_type": "execute_result"
    }
   ],
   "source": [
    "countries.get(alpha_2='CI')"
   ]
  },
  {
   "cell_type": "code",
   "execution_count": 9,
   "id": "01e93955-6299-4052-9b0a-52daa2a01a08",
   "metadata": {},
   "outputs": [
    {
     "data": {
      "text/plain": [
       "Country(alpha_2='PS', alpha_3='PSE', flag='🇵🇸', name='Palestine, State of', numeric='275', official_name='the State of Palestine')"
      ]
     },
     "execution_count": 9,
     "metadata": {},
     "output_type": "execute_result"
    }
   ],
   "source": [
    "countries.get(alpha_2='PS')"
   ]
  },
  {
   "cell_type": "code",
   "execution_count": 10,
   "id": "ad19326a-0ea9-49e2-8d52-925fd34323c1",
   "metadata": {},
   "outputs": [
    {
     "data": {
      "text/plain": [
       "Country(alpha_2='CD', alpha_3='COD', flag='🇨🇩', name='Congo, The Democratic Republic of the', numeric='180')"
      ]
     },
     "execution_count": 10,
     "metadata": {},
     "output_type": "execute_result"
    }
   ],
   "source": [
    "countries.get(alpha_2='CD')"
   ]
  },
  {
   "cell_type": "code",
   "execution_count": 11,
   "id": "795c7ed1-f23e-4752-be2c-e558b017c8b7",
   "metadata": {},
   "outputs": [
    {
     "data": {
      "text/plain": [
       "Country(alpha_2='BN', alpha_3='BRN', flag='🇧🇳', name='Brunei Darussalam', numeric='096')"
      ]
     },
     "execution_count": 11,
     "metadata": {},
     "output_type": "execute_result"
    }
   ],
   "source": [
    "countries.get(alpha_2='BN')"
   ]
  },
  {
   "cell_type": "code",
   "execution_count": 12,
   "id": "f1c300bf-912e-4477-923c-8f96d14335b4",
   "metadata": {},
   "outputs": [
    {
     "data": {
      "text/plain": [
       "Country(alpha_2='BS', alpha_3='BHS', flag='🇧🇸', name='Bahamas', numeric='044', official_name='Commonwealth of the Bahamas')"
      ]
     },
     "execution_count": 12,
     "metadata": {},
     "output_type": "execute_result"
    }
   ],
   "source": [
    "countries.get(alpha_2='BS')"
   ]
  },
  {
   "cell_type": "code",
   "execution_count": 13,
   "id": "0dc4bf0e-9844-4124-a77d-c1b97338cde4",
   "metadata": {},
   "outputs": [
    {
     "data": {
      "text/plain": [
       "Country(alpha_2='BQ', alpha_3='BES', flag='🇧🇶', name='Bonaire, Sint Eustatius and Saba', numeric='535', official_name='Bonaire, Sint Eustatius and Saba')"
      ]
     },
     "execution_count": 13,
     "metadata": {},
     "output_type": "execute_result"
    }
   ],
   "source": [
    "countries.get(alpha_2='BQ')"
   ]
  },
  {
   "cell_type": "code",
   "execution_count": 14,
   "id": "d95f5b1f-0f01-4bc9-b08a-1c4fb5ea1a19",
   "metadata": {},
   "outputs": [
    {
     "data": {
      "text/plain": [
       "Country(alpha_2='CC', alpha_3='CCK', flag='🇨🇨', name='Cocos (Keeling) Islands', numeric='166')"
      ]
     },
     "execution_count": 14,
     "metadata": {},
     "output_type": "execute_result"
    }
   ],
   "source": [
    "countries.get(alpha_2='CC')"
   ]
  },
  {
   "cell_type": "code",
   "execution_count": 15,
   "id": "0bea9727-e46e-41ac-bb2a-731bb188eab2",
   "metadata": {},
   "outputs": [
    {
     "data": {
      "text/plain": [
       "Country(alpha_2='CV', alpha_3='CPV', flag='🇨🇻', name='Cabo Verde', numeric='132', official_name='Republic of Cabo Verde')"
      ]
     },
     "execution_count": 15,
     "metadata": {},
     "output_type": "execute_result"
    }
   ],
   "source": [
    "countries.get(alpha_2='CV')"
   ]
  },
  {
   "cell_type": "code",
   "execution_count": 16,
   "id": "3ac84c8a-5ae5-49d5-a89a-a91caa8c50ab",
   "metadata": {},
   "outputs": [
    {
     "data": {
      "text/plain": [
       "Country(alpha_2='CW', alpha_3='CUW', flag='🇨🇼', name='Curaçao', numeric='531', official_name='Curaçao')"
      ]
     },
     "execution_count": 16,
     "metadata": {},
     "output_type": "execute_result"
    }
   ],
   "source": [
    "countries.get(alpha_2='CW')"
   ]
  },
  {
   "cell_type": "code",
   "execution_count": 17,
   "id": "def7deb3-8db2-49e4-a36b-166e8816b15a",
   "metadata": {},
   "outputs": [
    {
     "data": {
      "text/plain": [
       "Country(alpha_2='MO', alpha_3='MAC', flag='🇲🇴', name='Macao', numeric='446', official_name='Macao Special Administrative Region of China')"
      ]
     },
     "execution_count": 17,
     "metadata": {},
     "output_type": "execute_result"
    }
   ],
   "source": [
    "countries.get(alpha_2='MO')"
   ]
  },
  {
   "cell_type": "code",
   "execution_count": 18,
   "id": "d2657cab-a93a-41e7-8d1b-0a4446ff24b9",
   "metadata": {},
   "outputs": [
    {
     "data": {
      "text/plain": [
       "Country(alpha_2='CV', alpha_3='CPV', flag='🇨🇻', name='Cabo Verde', numeric='132', official_name='Republic of Cabo Verde')"
      ]
     },
     "execution_count": 18,
     "metadata": {},
     "output_type": "execute_result"
    }
   ],
   "source": [
    "countries.get(alpha_2='CV')"
   ]
  },
  {
   "cell_type": "code",
   "execution_count": 19,
   "id": "e6c64b18-a34c-4ff6-bc07-fcdc2ddb8b00",
   "metadata": {},
   "outputs": [
    {
     "data": {
      "text/plain": [
       "Country(alpha_2='MF', alpha_3='MAF', flag='🇲🇫', name='Saint Martin (French part)', numeric='663')"
      ]
     },
     "execution_count": 19,
     "metadata": {},
     "output_type": "execute_result"
    }
   ],
   "source": [
    "countries.get(alpha_2='MF')"
   ]
  },
  {
   "cell_type": "code",
   "execution_count": 20,
   "id": "57a73baa-1f90-42dd-97f7-7c9aca48f0fc",
   "metadata": {},
   "outputs": [
    {
     "data": {
      "text/plain": [
       "Country(alpha_2='ST', alpha_3='STP', flag='🇸🇹', name='Sao Tome and Principe', numeric='678', official_name='Democratic Republic of Sao Tome and Principe')"
      ]
     },
     "execution_count": 20,
     "metadata": {},
     "output_type": "execute_result"
    }
   ],
   "source": [
    "countries.get(alpha_2='ST')"
   ]
  },
  {
   "cell_type": "code",
   "execution_count": 21,
   "id": "eb699784-e6d0-433e-ba23-0e94d04b4d14",
   "metadata": {},
   "outputs": [
    {
     "data": {
      "text/plain": [
       "Country(alpha_2='SX', alpha_3='SXM', flag='🇸🇽', name='Sint Maarten (Dutch part)', numeric='534', official_name='Sint Maarten (Dutch part)')"
      ]
     },
     "execution_count": 21,
     "metadata": {},
     "output_type": "execute_result"
    }
   ],
   "source": [
    "countries.get(alpha_2='SX')"
   ]
  },
  {
   "cell_type": "code",
   "execution_count": 22,
   "id": "f34e7078-face-4c3d-814b-3de02c462d81",
   "metadata": {},
   "outputs": [
    {
     "data": {
      "text/plain": [
       "Country(alpha_2='UM', alpha_3='UMI', flag='🇺🇲', name='United States Minor Outlying Islands', numeric='581')"
      ]
     },
     "execution_count": 22,
     "metadata": {},
     "output_type": "execute_result"
    }
   ],
   "source": [
    "countries.get(alpha_2='UM')"
   ]
  },
  {
   "cell_type": "code",
   "execution_count": 23,
   "id": "fac756f9-6813-461c-b96a-c6f437ec0983",
   "metadata": {},
   "outputs": [
    {
     "data": {
      "text/plain": [
       "Country(alpha_2='VA', alpha_3='VAT', flag='🇻🇦', name='Holy See (Vatican City State)', numeric='336')"
      ]
     },
     "execution_count": 23,
     "metadata": {},
     "output_type": "execute_result"
    }
   ],
   "source": [
    "countries.get(alpha_2='VA')"
   ]
  },
  {
   "cell_type": "code",
   "execution_count": 24,
   "id": "9279e0a6-9bc5-4b5a-ae83-8ee8066e1d98",
   "metadata": {},
   "outputs": [
    {
     "data": {
      "text/plain": [
       "Country(alpha_2='VG', alpha_3='VGB', flag='🇻🇬', name='Virgin Islands, British', numeric='092', official_name='British Virgin Islands')"
      ]
     },
     "execution_count": 24,
     "metadata": {},
     "output_type": "execute_result"
    }
   ],
   "source": [
    "countries.get(alpha_2='VG')"
   ]
  },
  {
   "cell_type": "code",
   "execution_count": 25,
   "id": "ab04b071-e6fa-4d41-a81c-a8bfdac514c5",
   "metadata": {},
   "outputs": [],
   "source": [
    "countries.get(alpha_2='XK')"
   ]
  },
  {
   "cell_type": "code",
   "execution_count": 26,
   "id": "793ecc39-a5c6-4f9b-b7c2-d9b1e8dab937",
   "metadata": {},
   "outputs": [
    {
     "data": {
      "text/html": [
       "<div>\n",
       "<style scoped>\n",
       "    .dataframe tbody tr th:only-of-type {\n",
       "        vertical-align: middle;\n",
       "    }\n",
       "\n",
       "    .dataframe tbody tr th {\n",
       "        vertical-align: top;\n",
       "    }\n",
       "\n",
       "    .dataframe thead th {\n",
       "        text-align: right;\n",
       "    }\n",
       "</style>\n",
       "<table border=\"1\" class=\"dataframe\">\n",
       "  <thead>\n",
       "    <tr style=\"text-align: right;\">\n",
       "      <th></th>\n",
       "      <th>country</th>\n",
       "      <th>frequency</th>\n",
       "      <th>code</th>\n",
       "      <th>flag</th>\n",
       "    </tr>\n",
       "  </thead>\n",
       "  <tbody>\n",
       "    <tr>\n",
       "      <th>10</th>\n",
       "      <td>en:world</td>\n",
       "      <td>70577</td>\n",
       "      <td>None</td>\n",
       "      <td>None</td>\n",
       "    </tr>\n",
       "    <tr>\n",
       "      <th>106</th>\n",
       "      <td>en:yugoslavia</td>\n",
       "      <td>627</td>\n",
       "      <td>None</td>\n",
       "      <td>None</td>\n",
       "    </tr>\n",
       "    <tr>\n",
       "      <th>130</th>\n",
       "      <td>en:european-union</td>\n",
       "      <td>309</td>\n",
       "      <td>None</td>\n",
       "      <td>None</td>\n",
       "    </tr>\n",
       "    <tr>\n",
       "      <th>151</th>\n",
       "      <td>en:scotland</td>\n",
       "      <td>175</td>\n",
       "      <td>None</td>\n",
       "      <td>None</td>\n",
       "    </tr>\n",
       "    <tr>\n",
       "      <th>161</th>\n",
       "      <td>en:en</td>\n",
       "      <td>133</td>\n",
       "      <td>None</td>\n",
       "      <td>None</td>\n",
       "    </tr>\n",
       "    <tr>\n",
       "      <th>...</th>\n",
       "      <td>...</td>\n",
       "      <td>...</td>\n",
       "      <td>...</td>\n",
       "      <td>...</td>\n",
       "    </tr>\n",
       "    <tr>\n",
       "      <th>672</th>\n",
       "      <td>ar:المغرب-🇲🇦</td>\n",
       "      <td>1</td>\n",
       "      <td>None</td>\n",
       "      <td>None</td>\n",
       "    </tr>\n",
       "    <tr>\n",
       "      <th>673</th>\n",
       "      <td>en:meksyk</td>\n",
       "      <td>1</td>\n",
       "      <td>None</td>\n",
       "      <td>None</td>\n",
       "    </tr>\n",
       "    <tr>\n",
       "      <th>674</th>\n",
       "      <td>en:ประเทศฝรั่งเศส</td>\n",
       "      <td>1</td>\n",
       "      <td>None</td>\n",
       "      <td>None</td>\n",
       "    </tr>\n",
       "    <tr>\n",
       "      <th>675</th>\n",
       "      <td>en:dkmdmd</td>\n",
       "      <td>1</td>\n",
       "      <td>None</td>\n",
       "      <td>None</td>\n",
       "    </tr>\n",
       "    <tr>\n",
       "      <th>676</th>\n",
       "      <td>en:اوروبا</td>\n",
       "      <td>1</td>\n",
       "      <td>None</td>\n",
       "      <td>None</td>\n",
       "    </tr>\n",
       "  </tbody>\n",
       "</table>\n",
       "<p>436 rows × 4 columns</p>\n",
       "</div>"
      ],
      "text/plain": [
       "               country  frequency  code  flag\n",
       "10            en:world      70577  None  None\n",
       "106      en:yugoslavia        627  None  None\n",
       "130  en:european-union        309  None  None\n",
       "151        en:scotland        175  None  None\n",
       "161              en:en        133  None  None\n",
       "..                 ...        ...   ...   ...\n",
       "672       ar:المغرب-🇲🇦          1  None  None\n",
       "673          en:meksyk          1  None  None\n",
       "674  en:ประเทศฝรั่งเศส          1  None  None\n",
       "675          en:dkmdmd          1  None  None\n",
       "676          en:اوروبا          1  None  None\n",
       "\n",
       "[436 rows x 4 columns]"
      ]
     },
     "execution_count": 26,
     "metadata": {},
     "output_type": "execute_result"
    }
   ],
   "source": [
    "countries_df[countries_df.code.isna()]"
   ]
  },
  {
   "cell_type": "code",
   "execution_count": 27,
   "id": "5b7c53d0-d048-444f-b67a-9ae95d533e85",
   "metadata": {},
   "outputs": [
    {
     "data": {
      "text/plain": [
       "[Country(alpha_2='PS', alpha_3='PSE', flag='🇵🇸', name='Palestine, State of', numeric='275', official_name='the State of Palestine')]"
      ]
     },
     "execution_count": 27,
     "metadata": {},
     "output_type": "execute_result"
    }
   ],
   "source": [
    "countries.search_fuzzy(\"palestin\")"
   ]
  },
  {
   "cell_type": "code",
   "execution_count": 28,
   "id": "3b96647f-4326-49b0-bac9-bbdfb7c40538",
   "metadata": {},
   "outputs": [
    {
     "data": {
      "text/plain": [
       "Country(alpha_2='PS', alpha_3='PSE', flag='🇵🇸', name='Palestine, State of', numeric='275', official_name='the State of Palestine')"
      ]
     },
     "execution_count": 28,
     "metadata": {},
     "output_type": "execute_result"
    }
   ],
   "source": [
    "countries.lookup(\"Palestine, State of\")"
   ]
  },
  {
   "cell_type": "code",
   "execution_count": 29,
   "id": "1f543b17-e9d2-411a-b1fb-ac559fcab21a",
   "metadata": {},
   "outputs": [],
   "source": [
    "def lookup_country(name):\n",
    "    try:\n",
    "        # Attempt a direct lookup\n",
    "        country = countries.lookup(name)\n",
    "        return country.name\n",
    "    except LookupError:\n",
    "        # If direct lookup fails, check alternative names\n",
    "        for country in countries:\n",
    "            if name.lower() in [alt.lower() for alt in country.name.split(\",\")]:\n",
    "                return country.name\n",
    "            if hasattr(country, \"official_name\") and name.lower() == country.official_name.lower():\n",
    "                return country.name\n",
    "        return None\n",
    "\n",
    "lookup_country(\"Frankreich\")"
   ]
  },
  {
   "cell_type": "markdown",
   "id": "5aea92e2-6bc0-4c5a-b6fb-589c2908d11a",
   "metadata": {},
   "source": [
    "---\n",
    "\n",
    "## Using Gettext for ISO3166-1 translations"
   ]
  },
  {
   "cell_type": "code",
   "execution_count": 30,
   "id": "792a134b-5500-4f86-bbf2-44a2b7742890",
   "metadata": {},
   "outputs": [],
   "source": [
    "trans = gettext.translation('iso3166-1', LOCALES_DIR, languages=['fr'])"
   ]
  },
  {
   "cell_type": "code",
   "execution_count": 31,
   "id": "f586bbe5-caea-40af-a9c8-68964807eef5",
   "metadata": {},
   "outputs": [],
   "source": [
    "trans.install()"
   ]
  },
  {
   "cell_type": "code",
   "execution_count": 32,
   "id": "f2601b1f-58c6-4ffc-9987-dbadf7882baa",
   "metadata": {},
   "outputs": [
    {
     "data": {
      "text/plain": [
       "'Pays-Bas'"
      ]
     },
     "execution_count": 32,
     "metadata": {},
     "output_type": "execute_result"
    }
   ],
   "source": [
    "_(\"Netherlands\")"
   ]
  },
  {
   "cell_type": "code",
   "execution_count": 33,
   "id": "4d17dd3a-3f5e-4b20-9b41-454a638ebffb",
   "metadata": {},
   "outputs": [],
   "source": [
    "target_languages = ['en', 'de', 'fr', 'es']\n",
    "\n",
    "country_map = {}\n",
    "\n",
    "# Function to normalize country names (lowercase, remove accents)\n",
    "def normalize(name):\n",
    "    return unicodedata.normalize('NFKD', name).encode('ASCII', 'ignore').decode('utf-8').lower()\n",
    "\n",
    "# Iterate over countries and store in map\n",
    "for country in countries:\n",
    "    for lang in target_languages:\n",
    "        if lang == 'en':\n",
    "            normalized_name = normalize(country.name)\n",
    "            country_map[normalized_name] = (lang, country.alpha_2, country.flag)\n",
    "        try:\n",
    "            translation = gettext.translation('iso3166-1', LOCALES_DIR, languages=[lang])\n",
    "            translated_name = translation.gettext(country.name)\n",
    "            normalized_name = normalize(translated_name)\n",
    "            country_map[normalized_name] = (lang, country.alpha_2, country.flag)\n",
    "        except FileNotFoundError:\n",
    "            continue\n"
   ]
  },
  {
   "cell_type": "code",
   "execution_count": 34,
   "id": "c10307fd-21da-41da-8fb9-5002996623aa",
   "metadata": {},
   "outputs": [
    {
     "data": {
      "text/html": [
       "<div>\n",
       "<style scoped>\n",
       "    .dataframe tbody tr th:only-of-type {\n",
       "        vertical-align: middle;\n",
       "    }\n",
       "\n",
       "    .dataframe tbody tr th {\n",
       "        vertical-align: top;\n",
       "    }\n",
       "\n",
       "    .dataframe thead th {\n",
       "        text-align: right;\n",
       "    }\n",
       "</style>\n",
       "<table border=\"1\" class=\"dataframe\">\n",
       "  <thead>\n",
       "    <tr style=\"text-align: right;\">\n",
       "      <th></th>\n",
       "      <th>lang</th>\n",
       "      <th>code</th>\n",
       "      <th>flag</th>\n",
       "    </tr>\n",
       "  </thead>\n",
       "  <tbody>\n",
       "    <tr>\n",
       "      <th>aruba</th>\n",
       "      <td>es</td>\n",
       "      <td>AW</td>\n",
       "      <td>🇦🇼</td>\n",
       "    </tr>\n",
       "    <tr>\n",
       "      <th>afghanistan</th>\n",
       "      <td>fr</td>\n",
       "      <td>AF</td>\n",
       "      <td>🇦🇫</td>\n",
       "    </tr>\n",
       "    <tr>\n",
       "      <th>afganistan</th>\n",
       "      <td>es</td>\n",
       "      <td>AF</td>\n",
       "      <td>🇦🇫</td>\n",
       "    </tr>\n",
       "    <tr>\n",
       "      <th>angola</th>\n",
       "      <td>es</td>\n",
       "      <td>AO</td>\n",
       "      <td>🇦🇴</td>\n",
       "    </tr>\n",
       "    <tr>\n",
       "      <th>anguilla</th>\n",
       "      <td>fr</td>\n",
       "      <td>AI</td>\n",
       "      <td>🇦🇮</td>\n",
       "    </tr>\n",
       "    <tr>\n",
       "      <th>...</th>\n",
       "      <td>...</td>\n",
       "      <td>...</td>\n",
       "      <td>...</td>\n",
       "    </tr>\n",
       "    <tr>\n",
       "      <th>sambia</th>\n",
       "      <td>de</td>\n",
       "      <td>ZM</td>\n",
       "      <td>🇿🇲</td>\n",
       "    </tr>\n",
       "    <tr>\n",
       "      <th>zambie</th>\n",
       "      <td>fr</td>\n",
       "      <td>ZM</td>\n",
       "      <td>🇿🇲</td>\n",
       "    </tr>\n",
       "    <tr>\n",
       "      <th>zimbabwe</th>\n",
       "      <td>fr</td>\n",
       "      <td>ZW</td>\n",
       "      <td>🇿🇼</td>\n",
       "    </tr>\n",
       "    <tr>\n",
       "      <th>simbabwe</th>\n",
       "      <td>de</td>\n",
       "      <td>ZW</td>\n",
       "      <td>🇿🇼</td>\n",
       "    </tr>\n",
       "    <tr>\n",
       "      <th>zimbabue</th>\n",
       "      <td>es</td>\n",
       "      <td>ZW</td>\n",
       "      <td>🇿🇼</td>\n",
       "    </tr>\n",
       "  </tbody>\n",
       "</table>\n",
       "<p>709 rows × 3 columns</p>\n",
       "</div>"
      ],
      "text/plain": [
       "            lang code flag\n",
       "aruba         es   AW   🇦🇼\n",
       "afghanistan   fr   AF   🇦🇫\n",
       "afganistan    es   AF   🇦🇫\n",
       "angola        es   AO   🇦🇴\n",
       "anguilla      fr   AI   🇦🇮\n",
       "...          ...  ...  ...\n",
       "sambia        de   ZM   🇿🇲\n",
       "zambie        fr   ZM   🇿🇲\n",
       "zimbabwe      fr   ZW   🇿🇼\n",
       "simbabwe      de   ZW   🇿🇼\n",
       "zimbabue      es   ZW   🇿🇼\n",
       "\n",
       "[709 rows x 3 columns]"
      ]
     },
     "execution_count": 34,
     "metadata": {},
     "output_type": "execute_result"
    }
   ],
   "source": [
    "codes = pd.DataFrame.from_dict(country_map, orient=\"index\", columns=['lang', 'code', 'flag'])\n",
    "codes"
   ]
  },
  {
   "cell_type": "code",
   "execution_count": 35,
   "id": "8ee6c1cf-8b9a-41bf-93e2-fcfc90a56846",
   "metadata": {},
   "outputs": [
    {
     "data": {
      "text/plain": [
       "lang\n",
       "es    249\n",
       "fr    191\n",
       "de    159\n",
       "en    110\n",
       "Name: count, dtype: int64"
      ]
     },
     "execution_count": 35,
     "metadata": {},
     "output_type": "execute_result"
    }
   ],
   "source": [
    "codes.lang.value_counts()"
   ]
  },
  {
   "cell_type": "code",
   "execution_count": 36,
   "id": "ce9228b9-879d-4e97-8097-00382a841f16",
   "metadata": {},
   "outputs": [
    {
     "data": {
      "text/html": [
       "<div>\n",
       "<style scoped>\n",
       "    .dataframe tbody tr th:only-of-type {\n",
       "        vertical-align: middle;\n",
       "    }\n",
       "\n",
       "    .dataframe tbody tr th {\n",
       "        vertical-align: top;\n",
       "    }\n",
       "\n",
       "    .dataframe thead th {\n",
       "        text-align: right;\n",
       "    }\n",
       "</style>\n",
       "<table border=\"1\" class=\"dataframe\">\n",
       "  <thead>\n",
       "    <tr style=\"text-align: right;\">\n",
       "      <th></th>\n",
       "      <th>lang</th>\n",
       "      <th>code</th>\n",
       "      <th>flag</th>\n",
       "    </tr>\n",
       "  </thead>\n",
       "  <tbody>\n",
       "    <tr>\n",
       "      <th>aruba</th>\n",
       "      <td>es</td>\n",
       "      <td>AW</td>\n",
       "      <td>🇦🇼</td>\n",
       "    </tr>\n",
       "  </tbody>\n",
       "</table>\n",
       "</div>"
      ],
      "text/plain": [
       "      lang code flag\n",
       "aruba   es   AW   🇦🇼"
      ]
     },
     "execution_count": 36,
     "metadata": {},
     "output_type": "execute_result"
    }
   ],
   "source": [
    "codes[codes.code == 'AW']"
   ]
  },
  {
   "cell_type": "code",
   "execution_count": 37,
   "id": "0b259326-7d86-43e6-a84c-ba6a3c8b558b",
   "metadata": {},
   "outputs": [
    {
     "data": {
      "text/html": [
       "<div>\n",
       "<style scoped>\n",
       "    .dataframe tbody tr th:only-of-type {\n",
       "        vertical-align: middle;\n",
       "    }\n",
       "\n",
       "    .dataframe tbody tr th {\n",
       "        vertical-align: top;\n",
       "    }\n",
       "\n",
       "    .dataframe thead th {\n",
       "        text-align: right;\n",
       "    }\n",
       "</style>\n",
       "<table border=\"1\" class=\"dataframe\">\n",
       "  <thead>\n",
       "    <tr style=\"text-align: right;\">\n",
       "      <th></th>\n",
       "      <th>lang</th>\n",
       "      <th>code</th>\n",
       "      <th>flag</th>\n",
       "    </tr>\n",
       "  </thead>\n",
       "  <tbody>\n",
       "    <tr>\n",
       "      <th>russian federation</th>\n",
       "      <td>en</td>\n",
       "      <td>RU</td>\n",
       "      <td>🇷🇺</td>\n",
       "    </tr>\n",
       "    <tr>\n",
       "      <th>russische foderation</th>\n",
       "      <td>de</td>\n",
       "      <td>RU</td>\n",
       "      <td>🇷🇺</td>\n",
       "    </tr>\n",
       "    <tr>\n",
       "      <th>russie, federation de</th>\n",
       "      <td>fr</td>\n",
       "      <td>RU</td>\n",
       "      <td>🇷🇺</td>\n",
       "    </tr>\n",
       "  </tbody>\n",
       "</table>\n",
       "</div>"
      ],
      "text/plain": [
       "                      lang code flag\n",
       "russian federation      en   RU   🇷🇺\n",
       "russische foderation    de   RU   🇷🇺\n",
       "russie, federation de   fr   RU   🇷🇺"
      ]
     },
     "execution_count": 37,
     "metadata": {},
     "output_type": "execute_result"
    }
   ],
   "source": [
    "codes[codes.index.str.startswith('russi')]"
   ]
  },
  {
   "cell_type": "code",
   "execution_count": 38,
   "id": "f77952df-ab35-4685-b336-c7b08a269318",
   "metadata": {},
   "outputs": [
    {
     "data": {
      "text/plain": [
       "0            (fr, FR, 🇫🇷)\n",
       "1            (de, UM, 🇺🇲)\n",
       "2            (en, ES, 🇪🇸)\n",
       "3            (en, DE, 🇩🇪)\n",
       "4            (en, IT, 🇮🇹)\n",
       "              ...        \n",
       "672    (None, None, None)\n",
       "673    (None, None, None)\n",
       "674          (es, AW, 🇦🇼)\n",
       "675    (None, None, None)\n",
       "676          (es, AW, 🇦🇼)\n",
       "Name: country, Length: 677, dtype: object"
      ]
     },
     "execution_count": 38,
     "metadata": {},
     "output_type": "execute_result"
    }
   ],
   "source": [
    "def get_info(name):\n",
    "    if name == '':\n",
    "        (None, None, None)\n",
    "    for c in codes.index:\n",
    "        if c.startswith(name):\n",
    "            return country_map.get(c)\n",
    "    return (None, None, None)\n",
    "    #return country_map.get(name, (None, None, None))\n",
    "    \n",
    "norm = df.country.apply(remove_prefix).apply(replace_dash).apply(normalize).apply(get_info)\n",
    "norm"
   ]
  },
  {
   "cell_type": "code",
   "execution_count": 39,
   "id": "3b44e3a5-23f8-41b6-a89b-fb1567100959",
   "metadata": {},
   "outputs": [
    {
     "data": {
      "text/html": [
       "<div>\n",
       "<style scoped>\n",
       "    .dataframe tbody tr th:only-of-type {\n",
       "        vertical-align: middle;\n",
       "    }\n",
       "\n",
       "    .dataframe tbody tr th {\n",
       "        vertical-align: top;\n",
       "    }\n",
       "\n",
       "    .dataframe thead th {\n",
       "        text-align: right;\n",
       "    }\n",
       "</style>\n",
       "<table border=\"1\" class=\"dataframe\">\n",
       "  <thead>\n",
       "    <tr style=\"text-align: right;\">\n",
       "      <th></th>\n",
       "      <th>country</th>\n",
       "      <th>frequency</th>\n",
       "      <th>lang</th>\n",
       "      <th>code</th>\n",
       "      <th>flag</th>\n",
       "    </tr>\n",
       "  </thead>\n",
       "  <tbody>\n",
       "    <tr>\n",
       "      <th>0</th>\n",
       "      <td>en:france</td>\n",
       "      <td>1109929</td>\n",
       "      <td>fr</td>\n",
       "      <td>FR</td>\n",
       "      <td>🇫🇷</td>\n",
       "    </tr>\n",
       "    <tr>\n",
       "      <th>1</th>\n",
       "      <td>en:united-states</td>\n",
       "      <td>712983</td>\n",
       "      <td>de</td>\n",
       "      <td>UM</td>\n",
       "      <td>🇺🇲</td>\n",
       "    </tr>\n",
       "    <tr>\n",
       "      <th>2</th>\n",
       "      <td>en:spain</td>\n",
       "      <td>333584</td>\n",
       "      <td>en</td>\n",
       "      <td>ES</td>\n",
       "      <td>🇪🇸</td>\n",
       "    </tr>\n",
       "    <tr>\n",
       "      <th>3</th>\n",
       "      <td>en:germany</td>\n",
       "      <td>319896</td>\n",
       "      <td>en</td>\n",
       "      <td>DE</td>\n",
       "      <td>🇩🇪</td>\n",
       "    </tr>\n",
       "    <tr>\n",
       "      <th>4</th>\n",
       "      <td>en:italy</td>\n",
       "      <td>250943</td>\n",
       "      <td>en</td>\n",
       "      <td>IT</td>\n",
       "      <td>🇮🇹</td>\n",
       "    </tr>\n",
       "    <tr>\n",
       "      <th>...</th>\n",
       "      <td>...</td>\n",
       "      <td>...</td>\n",
       "      <td>...</td>\n",
       "      <td>...</td>\n",
       "      <td>...</td>\n",
       "    </tr>\n",
       "    <tr>\n",
       "      <th>672</th>\n",
       "      <td>ar:المغرب-🇲🇦</td>\n",
       "      <td>1</td>\n",
       "      <td>None</td>\n",
       "      <td>None</td>\n",
       "      <td>None</td>\n",
       "    </tr>\n",
       "    <tr>\n",
       "      <th>673</th>\n",
       "      <td>en:meksyk</td>\n",
       "      <td>1</td>\n",
       "      <td>None</td>\n",
       "      <td>None</td>\n",
       "      <td>None</td>\n",
       "    </tr>\n",
       "    <tr>\n",
       "      <th>674</th>\n",
       "      <td>en:ประเทศฝรั่งเศส</td>\n",
       "      <td>1</td>\n",
       "      <td>es</td>\n",
       "      <td>AW</td>\n",
       "      <td>🇦🇼</td>\n",
       "    </tr>\n",
       "    <tr>\n",
       "      <th>675</th>\n",
       "      <td>en:dkmdmd</td>\n",
       "      <td>1</td>\n",
       "      <td>None</td>\n",
       "      <td>None</td>\n",
       "      <td>None</td>\n",
       "    </tr>\n",
       "    <tr>\n",
       "      <th>676</th>\n",
       "      <td>en:اوروبا</td>\n",
       "      <td>1</td>\n",
       "      <td>es</td>\n",
       "      <td>AW</td>\n",
       "      <td>🇦🇼</td>\n",
       "    </tr>\n",
       "  </tbody>\n",
       "</table>\n",
       "<p>677 rows × 5 columns</p>\n",
       "</div>"
      ],
      "text/plain": [
       "               country  frequency  lang  code  flag\n",
       "0            en:france    1109929    fr    FR    🇫🇷\n",
       "1     en:united-states     712983    de    UM    🇺🇲\n",
       "2             en:spain     333584    en    ES    🇪🇸\n",
       "3           en:germany     319896    en    DE    🇩🇪\n",
       "4             en:italy     250943    en    IT    🇮🇹\n",
       "..                 ...        ...   ...   ...   ...\n",
       "672       ar:المغرب-🇲🇦          1  None  None  None\n",
       "673          en:meksyk          1  None  None  None\n",
       "674  en:ประเทศฝรั่งเศส          1    es    AW    🇦🇼\n",
       "675          en:dkmdmd          1  None  None  None\n",
       "676          en:اوروبا          1    es    AW    🇦🇼\n",
       "\n",
       "[677 rows x 5 columns]"
      ]
     },
     "execution_count": 39,
     "metadata": {},
     "output_type": "execute_result"
    }
   ],
   "source": [
    "result = pd.DataFrame.from_records(norm, columns=['lang', 'code', 'flag'])\n",
    "result = df.merge(result, left_index=True, right_index=True)\n",
    "result"
   ]
  },
  {
   "cell_type": "code",
   "execution_count": 40,
   "id": "4c1e98aa-8ae9-4b60-a4ee-cefc04ebc25d",
   "metadata": {},
   "outputs": [
    {
     "data": {
      "text/html": [
       "<div>\n",
       "<style scoped>\n",
       "    .dataframe tbody tr th:only-of-type {\n",
       "        vertical-align: middle;\n",
       "    }\n",
       "\n",
       "    .dataframe tbody tr th {\n",
       "        vertical-align: top;\n",
       "    }\n",
       "\n",
       "    .dataframe thead th {\n",
       "        text-align: right;\n",
       "    }\n",
       "</style>\n",
       "<table border=\"1\" class=\"dataframe\">\n",
       "  <thead>\n",
       "    <tr style=\"text-align: right;\">\n",
       "      <th></th>\n",
       "      <th>country</th>\n",
       "      <th>frequency</th>\n",
       "      <th>lang</th>\n",
       "      <th>code</th>\n",
       "      <th>flag</th>\n",
       "    </tr>\n",
       "  </thead>\n",
       "  <tbody>\n",
       "    <tr>\n",
       "      <th>10</th>\n",
       "      <td>en:world</td>\n",
       "      <td>70577</td>\n",
       "      <td>None</td>\n",
       "      <td>None</td>\n",
       "      <td>None</td>\n",
       "    </tr>\n",
       "    <tr>\n",
       "      <th>23</th>\n",
       "      <td>en:czech-republic</td>\n",
       "      <td>13124</td>\n",
       "      <td>None</td>\n",
       "      <td>None</td>\n",
       "      <td>None</td>\n",
       "    </tr>\n",
       "    <tr>\n",
       "      <th>52</th>\n",
       "      <td>en:turkey</td>\n",
       "      <td>3525</td>\n",
       "      <td>None</td>\n",
       "      <td>None</td>\n",
       "      <td>None</td>\n",
       "    </tr>\n",
       "    <tr>\n",
       "      <th>70</th>\n",
       "      <td>en:south-korea</td>\n",
       "      <td>1652</td>\n",
       "      <td>None</td>\n",
       "      <td>None</td>\n",
       "      <td>None</td>\n",
       "    </tr>\n",
       "    <tr>\n",
       "      <th>87</th>\n",
       "      <td>en:cote-d-ivoire</td>\n",
       "      <td>1080</td>\n",
       "      <td>None</td>\n",
       "      <td>None</td>\n",
       "      <td>None</td>\n",
       "    </tr>\n",
       "    <tr>\n",
       "      <th>...</th>\n",
       "      <td>...</td>\n",
       "      <td>...</td>\n",
       "      <td>...</td>\n",
       "      <td>...</td>\n",
       "      <td>...</td>\n",
       "    </tr>\n",
       "    <tr>\n",
       "      <th>669</th>\n",
       "      <td>en:ranska</td>\n",
       "      <td>1</td>\n",
       "      <td>None</td>\n",
       "      <td>None</td>\n",
       "      <td>None</td>\n",
       "    </tr>\n",
       "    <tr>\n",
       "      <th>671</th>\n",
       "      <td>en:francie</td>\n",
       "      <td>1</td>\n",
       "      <td>None</td>\n",
       "      <td>None</td>\n",
       "      <td>None</td>\n",
       "    </tr>\n",
       "    <tr>\n",
       "      <th>672</th>\n",
       "      <td>ar:المغرب-🇲🇦</td>\n",
       "      <td>1</td>\n",
       "      <td>None</td>\n",
       "      <td>None</td>\n",
       "      <td>None</td>\n",
       "    </tr>\n",
       "    <tr>\n",
       "      <th>673</th>\n",
       "      <td>en:meksyk</td>\n",
       "      <td>1</td>\n",
       "      <td>None</td>\n",
       "      <td>None</td>\n",
       "      <td>None</td>\n",
       "    </tr>\n",
       "    <tr>\n",
       "      <th>675</th>\n",
       "      <td>en:dkmdmd</td>\n",
       "      <td>1</td>\n",
       "      <td>None</td>\n",
       "      <td>None</td>\n",
       "      <td>None</td>\n",
       "    </tr>\n",
       "  </tbody>\n",
       "</table>\n",
       "<p>344 rows × 5 columns</p>\n",
       "</div>"
      ],
      "text/plain": [
       "               country  frequency  lang  code  flag\n",
       "10            en:world      70577  None  None  None\n",
       "23   en:czech-republic      13124  None  None  None\n",
       "52           en:turkey       3525  None  None  None\n",
       "70      en:south-korea       1652  None  None  None\n",
       "87    en:cote-d-ivoire       1080  None  None  None\n",
       "..                 ...        ...   ...   ...   ...\n",
       "669          en:ranska          1  None  None  None\n",
       "671         en:francie          1  None  None  None\n",
       "672       ar:المغرب-🇲🇦          1  None  None  None\n",
       "673          en:meksyk          1  None  None  None\n",
       "675          en:dkmdmd          1  None  None  None\n",
       "\n",
       "[344 rows x 5 columns]"
      ]
     },
     "execution_count": 40,
     "metadata": {},
     "output_type": "execute_result"
    }
   ],
   "source": [
    "result[result.code.isna()]#.head(20)"
   ]
  },
  {
   "cell_type": "markdown",
   "id": "75547bf2-7f31-49b1-bee0-dc09da13b24f",
   "metadata": {},
   "source": [
    "---"
   ]
  },
  {
   "cell_type": "code",
   "execution_count": 41,
   "id": "cdd78fcd-b706-408b-a0da-3c2b43f4e328",
   "metadata": {},
   "outputs": [
    {
     "data": {
      "text/html": [
       "<div>\n",
       "<style scoped>\n",
       "    .dataframe tbody tr th:only-of-type {\n",
       "        vertical-align: middle;\n",
       "    }\n",
       "\n",
       "    .dataframe tbody tr th {\n",
       "        vertical-align: top;\n",
       "    }\n",
       "\n",
       "    .dataframe thead th {\n",
       "        text-align: right;\n",
       "    }\n",
       "</style>\n",
       "<table border=\"1\" class=\"dataframe\">\n",
       "  <thead>\n",
       "    <tr style=\"text-align: right;\">\n",
       "      <th></th>\n",
       "      <th>country</th>\n",
       "      <th>frequency</th>\n",
       "    </tr>\n",
       "  </thead>\n",
       "  <tbody>\n",
       "    <tr>\n",
       "      <th>0</th>\n",
       "      <td>france</td>\n",
       "      <td>1109929</td>\n",
       "    </tr>\n",
       "    <tr>\n",
       "      <th>1</th>\n",
       "      <td>united states</td>\n",
       "      <td>712983</td>\n",
       "    </tr>\n",
       "    <tr>\n",
       "      <th>2</th>\n",
       "      <td>spain</td>\n",
       "      <td>333584</td>\n",
       "    </tr>\n",
       "    <tr>\n",
       "      <th>3</th>\n",
       "      <td>germany</td>\n",
       "      <td>319896</td>\n",
       "    </tr>\n",
       "    <tr>\n",
       "      <th>4</th>\n",
       "      <td>italy</td>\n",
       "      <td>250943</td>\n",
       "    </tr>\n",
       "    <tr>\n",
       "      <th>...</th>\n",
       "      <td>...</td>\n",
       "      <td>...</td>\n",
       "    </tr>\n",
       "    <tr>\n",
       "      <th>463</th>\n",
       "      <td>zambia english</td>\n",
       "      <td>2</td>\n",
       "    </tr>\n",
       "    <tr>\n",
       "      <th>464</th>\n",
       "      <td>london</td>\n",
       "      <td>2</td>\n",
       "    </tr>\n",
       "    <tr>\n",
       "      <th>465</th>\n",
       "      <td>švicarska</td>\n",
       "      <td>2</td>\n",
       "    </tr>\n",
       "    <tr>\n",
       "      <th>466</th>\n",
       "      <td>middle east</td>\n",
       "      <td>2</td>\n",
       "    </tr>\n",
       "    <tr>\n",
       "      <th>467</th>\n",
       "      <td>cocos keeling islands</td>\n",
       "      <td>2</td>\n",
       "    </tr>\n",
       "  </tbody>\n",
       "</table>\n",
       "<p>468 rows × 2 columns</p>\n",
       "</div>"
      ],
      "text/plain": [
       "                   country  frequency\n",
       "0                   france    1109929\n",
       "1            united states     712983\n",
       "2                    spain     333584\n",
       "3                  germany     319896\n",
       "4                    italy     250943\n",
       "..                     ...        ...\n",
       "463         zambia english          2\n",
       "464                 london          2\n",
       "465              švicarska          2\n",
       "466            middle east          2\n",
       "467  cocos keeling islands          2\n",
       "\n",
       "[468 rows x 2 columns]"
      ]
     },
     "execution_count": 41,
     "metadata": {},
     "output_type": "execute_result"
    }
   ],
   "source": [
    "long_list = pd.concat([df.country.apply(remove_prefix).apply(replace_dash), df.frequency], axis=1)\n",
    "long_list = long_list[long_list.frequency > 1]\n",
    "long_list.drop(columns=['frequency']).to_csv(\"country-names.txt\", index=False)\n",
    "long_list"
   ]
  },
  {
   "cell_type": "code",
   "execution_count": 42,
   "id": "9b944a9e-41ae-44b6-a8e4-6fb7f37b4bd8",
   "metadata": {},
   "outputs": [
    {
     "data": {
      "text/plain": [
       "3908881"
      ]
     },
     "execution_count": 42,
     "metadata": {},
     "output_type": "execute_result"
    }
   ],
   "source": [
    "long_list.frequency[long_list.frequency > 1].sum()"
   ]
  },
  {
   "cell_type": "code",
   "execution_count": 43,
   "id": "984684de-bbd0-4d14-a495-ddd2bdfae982",
   "metadata": {},
   "outputs": [
    {
     "data": {
      "text/plain": [
       "0"
      ]
     },
     "execution_count": 43,
     "metadata": {},
     "output_type": "execute_result"
    }
   ],
   "source": [
    "long_list.frequency[long_list.frequency == 1].sum()"
   ]
  },
  {
   "cell_type": "code",
   "execution_count": 44,
   "id": "7ded2b2b-e0d1-48a2-bfe6-d52e012ad443",
   "metadata": {},
   "outputs": [
    {
     "data": {
      "text/html": [
       "<div>\n",
       "<style scoped>\n",
       "    .dataframe tbody tr th:only-of-type {\n",
       "        vertical-align: middle;\n",
       "    }\n",
       "\n",
       "    .dataframe tbody tr th {\n",
       "        vertical-align: top;\n",
       "    }\n",
       "\n",
       "    .dataframe thead th {\n",
       "        text-align: right;\n",
       "    }\n",
       "</style>\n",
       "<table border=\"1\" class=\"dataframe\">\n",
       "  <thead>\n",
       "    <tr style=\"text-align: right;\">\n",
       "      <th></th>\n",
       "      <th>FR</th>\n",
       "      <th>France</th>\n",
       "    </tr>\n",
       "  </thead>\n",
       "  <tbody>\n",
       "    <tr>\n",
       "      <th>0</th>\n",
       "      <td>US</td>\n",
       "      <td>United States</td>\n",
       "    </tr>\n",
       "    <tr>\n",
       "      <th>1</th>\n",
       "      <td>ES</td>\n",
       "      <td>Spain</td>\n",
       "    </tr>\n",
       "    <tr>\n",
       "      <th>2</th>\n",
       "      <td>DE</td>\n",
       "      <td>Germany</td>\n",
       "    </tr>\n",
       "    <tr>\n",
       "      <th>3</th>\n",
       "      <td>IT</td>\n",
       "      <td>Italy</td>\n",
       "    </tr>\n",
       "    <tr>\n",
       "      <th>4</th>\n",
       "      <td>GB</td>\n",
       "      <td>United Kingdom</td>\n",
       "    </tr>\n",
       "    <tr>\n",
       "      <th>...</th>\n",
       "      <td>...</td>\n",
       "      <td>...</td>\n",
       "    </tr>\n",
       "    <tr>\n",
       "      <th>352</th>\n",
       "      <td>SG</td>\n",
       "      <td>Singapore (English)</td>\n",
       "    </tr>\n",
       "    <tr>\n",
       "      <th>353</th>\n",
       "      <td>SE</td>\n",
       "      <td>Sweden (Swedish)</td>\n",
       "    </tr>\n",
       "    <tr>\n",
       "      <th>354</th>\n",
       "      <td>KR</td>\n",
       "      <td>South Korea</td>\n",
       "    </tr>\n",
       "    <tr>\n",
       "      <th>355</th>\n",
       "      <td>SA</td>\n",
       "      <td>Saudi Arabia</td>\n",
       "    </tr>\n",
       "    <tr>\n",
       "      <th>356</th>\n",
       "      <td>KZ</td>\n",
       "      <td>Kazakhstan (Russian)</td>\n",
       "    </tr>\n",
       "  </tbody>\n",
       "</table>\n",
       "<p>357 rows × 2 columns</p>\n",
       "</div>"
      ],
      "text/plain": [
       "     FR                France\n",
       "0    US         United States\n",
       "1    ES                 Spain\n",
       "2    DE               Germany\n",
       "3    IT                 Italy\n",
       "4    GB        United Kingdom\n",
       "..   ..                   ...\n",
       "352  SG   Singapore (English)\n",
       "353  SE      Sweden (Swedish)\n",
       "354  KR           South Korea\n",
       "355  SA          Saudi Arabia\n",
       "356  KZ  Kazakhstan (Russian)\n",
       "\n",
       "[357 rows x 2 columns]"
      ]
     },
     "execution_count": 44,
     "metadata": {},
     "output_type": "execute_result"
    }
   ],
   "source": [
    "pd.read_csv(\"country-names-translated.txt\", sep=' - ', engine='python')"
   ]
  }
 ],
 "metadata": {
  "kernelspec": {
   "display_name": "Python 3 (ipykernel)",
   "language": "python",
   "name": "python3"
  },
  "language_info": {
   "codemirror_mode": {
    "name": "ipython",
    "version": 3
   },
   "file_extension": ".py",
   "mimetype": "text/x-python",
   "name": "python",
   "nbconvert_exporter": "python",
   "pygments_lexer": "ipython3",
   "version": "3.11.6"
  }
 },
 "nbformat": 4,
 "nbformat_minor": 5
}
