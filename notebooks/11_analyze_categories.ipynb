{
 "cells": [
  {
   "cell_type": "markdown",
   "id": "4eefd7c9-5143-4060-8e2a-895cc8fb2d20",
   "metadata": {},
   "source": [
    "# Analyze Categories Taxonomy\n",
    "\n",
    "Goal: Create a curated set of food categories that are suitable for search auto-suggest.\n",
    "\n",
    "Situation:\n",
    "- auto-suggest is typically based on most popular searches, but we don't have search data\n",
    "- as an alternative show the best matching categories from the taxonomy\n",
    "\n",
    "Constraints:\n",
    "- only categories that have many products\n",
    "- exclude root nodes (too generic) and leaf nodes (too specific) from categories taxonomy\n",
    "- exclude categories that express food processing (cooked rice)\n",
    "\n",
    "Category Sources:\n",
    "- Category Taxonomy (https://github.com/openfoodfacts/openfoodfacts-server/blob/main/taxonomies/food/categories.txt)\n",
    "- Statistics about Products in Categories (https://world.openfoodfacts.org/categories)"
   ]
  },
  {
   "cell_type": "code",
   "execution_count": 1,
   "id": "db0ddcbe-b0c2-426b-b123-7945033ac219",
   "metadata": {},
   "outputs": [],
   "source": [
    "from openfoodfacts.taxonomy import get_taxonomy, Taxonomy\n",
    "import networkx as nx\n",
    "import pandas as pd"
   ]
  },
  {
   "cell_type": "markdown",
   "id": "078947bf-74bd-4a66-b61d-18ad588bf371",
   "metadata": {},
   "source": [
    "## Load Category Taxonomy"
   ]
  },
  {
   "cell_type": "code",
   "execution_count": 2,
   "id": "6c72f95a-0e04-4d0b-8df1-d37dffdf74ff",
   "metadata": {},
   "outputs": [
    {
     "name": "stdout",
     "output_type": "stream",
     "text": [
      "categories: 13,404\n"
     ]
    }
   ],
   "source": [
    "categories: Taxonomy = get_taxonomy(\"category\")\n",
    "print(f\"categories: {len(categories):,}\")"
   ]
  },
  {
   "cell_type": "markdown",
   "id": "f00dd928-8181-4f23-94ee-1d6e6d835281",
   "metadata": {},
   "source": [
    "## Exploratory Data Analysis\n",
    "\n",
    "### Category Languages"
   ]
  },
  {
   "cell_type": "code",
   "execution_count": 3,
   "id": "50ba6014-d5b5-4ee9-9f9d-1fe3c6f57198",
   "metadata": {},
   "outputs": [
    {
     "data": {
      "text/plain": [
       "en:    7936\n",
       "fr:    2829\n",
       "it:    1097\n",
       "es:     395\n",
       "de:     247\n",
       "pt:     168\n",
       "el:     166\n",
       "bg:      74\n",
       "hu:      65\n",
       "ro:      64\n",
       "Name: count, dtype: int64"
      ]
     },
     "execution_count": 3,
     "metadata": {},
     "output_type": "execute_result"
    }
   ],
   "source": [
    "tax_nodes = categories.nodes.values()\n",
    "lang_prefix = [node.id[:3] for node in tax_nodes]\n",
    "pd.Series(lang_prefix).value_counts().head(10)"
   ]
  },
  {
   "cell_type": "markdown",
   "id": "984ba413-c2c3-4a48-b680-da309959d253",
   "metadata": {},
   "source": [
    "### Italian Categories"
   ]
  },
  {
   "cell_type": "code",
   "execution_count": 4,
   "id": "0c9f7dfb-1b2e-4aed-915f-af5507254c19",
   "metadata": {},
   "outputs": [
    {
     "data": {
      "text/plain": [
       "[<TaxonomyNode it:rubicone>,\n",
       " <TaxonomyNode it:lago-di-corbara>,\n",
       " <TaxonomyNode it:mafaldine>,\n",
       " <TaxonomyNode it:vino-doc-molisano>,\n",
       " <TaxonomyNode it:colli-di-rimini>,\n",
       " <TaxonomyNode it:grottino-di-roccanova>,\n",
       " <TaxonomyNode it:salaparuta>,\n",
       " <TaxonomyNode it:colli-di-parma-malvasia-spumante-secco>,\n",
       " <TaxonomyNode it:casteller>,\n",
       " <TaxonomyNode it:oltrepo-pavese-pinot-grigio>]"
      ]
     },
     "execution_count": 4,
     "metadata": {},
     "output_type": "execute_result"
    }
   ],
   "source": [
    "it_nodes = [node for node in tax_nodes if node.id[:2] == 'it']\n",
    "it_nodes[:10]"
   ]
  },
  {
   "cell_type": "markdown",
   "id": "058a65ec-4fe1-4fbe-89cb-f83684ad2a74",
   "metadata": {},
   "source": [
    "### Closest English Parents of Italian Categories"
   ]
  },
  {
   "cell_type": "code",
   "execution_count": 5,
   "id": "d300f0fd-1be3-413a-88c7-74b3ef1e4879",
   "metadata": {},
   "outputs": [
    {
     "data": {
      "text/plain": [
       "<TaxonomyNode en:wines-from-italy>         809\n",
       "<TaxonomyNode en:pastas>                    55\n",
       "<TaxonomyNode en:italian-meat-products>     41\n",
       "<TaxonomyNode en:italian-cheeses>           36\n",
       "<TaxonomyNode en:italian-fruit-spirit>      15\n",
       "                                          ... \n",
       "<TaxonomyNode en:clementines>                1\n",
       "<TaxonomyNode en:italian-liqueurs>           1\n",
       "<TaxonomyNode en:specks>                     1\n",
       "<TaxonomyNode en:brandys>                    1\n",
       "<TaxonomyNode en:ricciarelli>                1\n",
       "Name: count, Length: 63, dtype: int64"
      ]
     },
     "execution_count": 5,
     "metadata": {},
     "output_type": "execute_result"
    }
   ],
   "source": [
    "## recurse until enlish parent is found\n",
    "def get_en_ancestors(node):\n",
    "    if node.id[:2] == 'en':\n",
    "        return [node]\n",
    "    else:\n",
    "        return [ena for parent in node.parents for ena in get_en_ancestors(parent)]\n",
    "\n",
    "it_parents = [parent for node in it_nodes for parent in get_en_ancestors(node)]\n",
    "pd.Series(it_parents).value_counts()"
   ]
  },
  {
   "cell_type": "code",
   "execution_count": 6,
   "id": "8e51f3d2-082a-46a5-ba14-cfa3ea4e5d17",
   "metadata": {},
   "outputs": [
    {
     "name": "stdout",
     "output_type": "stream",
     "text": [
      "{'it': 'Ricciarelli', 'es': 'Ricciarelli', 'hr': 'Ricciarelli', 'xx': 'Ricciarelli', 'fr': 'Ricciarelli', 'en': 'Ricciarelli', 'de': 'Ricciarelli'}\n",
      "[<TaxonomyNode en:biscuits>]\n"
     ]
    }
   ],
   "source": [
    "print(categories[\"en:ricciarelli\"].names)\n",
    "print(categories[\"en:ricciarelli\"].parents)"
   ]
  },
  {
   "cell_type": "markdown",
   "id": "e7588066-6183-47e1-9e4a-ca6116e8570a",
   "metadata": {},
   "source": [
    "### French Categories"
   ]
  },
  {
   "cell_type": "code",
   "execution_count": 7,
   "id": "55762e36-ddf4-4956-bcef-bb03eaa6921a",
   "metadata": {},
   "outputs": [
    {
     "data": {
      "text/plain": [
       "[<TaxonomyNode fr:givry-premier-cru-servoisine>,\n",
       " <TaxonomyNode fr:cotes-du-roussillon>,\n",
       " <TaxonomyNode fr:rhum-de-sucrerie-de-la-baie-du-galion>,\n",
       " <TaxonomyNode fr:piment-kabyle>,\n",
       " <TaxonomyNode fr:jambon-du-kintoa>,\n",
       " <TaxonomyNode fr:medoc>,\n",
       " <TaxonomyNode fr:chablis-premier-cru-les-lys>,\n",
       " <TaxonomyNode fr:jambons-de-mayence>,\n",
       " <TaxonomyNode fr:le-pepper-mont-jolien>,\n",
       " <TaxonomyNode fr:beaune-premier-cru-les-tuvilains-rouge>]"
      ]
     },
     "execution_count": 7,
     "metadata": {},
     "output_type": "execute_result"
    }
   ],
   "source": [
    "fr_nodes = [node for node in tax_nodes if node.id[:2] == 'fr']\n",
    "fr_nodes[:10]"
   ]
  },
  {
   "cell_type": "code",
   "execution_count": 8,
   "id": "afaf29e1-a11d-4e15-8ab5-c9e0a138c10f",
   "metadata": {},
   "outputs": [
    {
     "data": {
      "text/plain": [
       "<TaxonomyNode en:burgundy-wines>            1390\n",
       "<TaxonomyNode en:red-wines>                 1138\n",
       "<TaxonomyNode en:white-wines>               1005\n",
       "<TaxonomyNode en:wines-from-france>          372\n",
       "<TaxonomyNode en:rose-wines>                  66\n",
       "                                            ... \n",
       "<TaxonomyNode en:absinthium>                   1\n",
       "<TaxonomyNode en:french-sparkling-wines>       1\n",
       "<TaxonomyNode en:mediterannean-honeys>         1\n",
       "<TaxonomyNode en:pine-honeys>                  1\n",
       "<TaxonomyNode en:strawberry-compotes>          1\n",
       "Name: count, Length: 449, dtype: int64"
      ]
     },
     "execution_count": 8,
     "metadata": {},
     "output_type": "execute_result"
    }
   ],
   "source": [
    "# find closest english parents\n",
    "fr_parents = [parent for node in fr_nodes for parent in get_en_ancestors(node)]\n",
    "pd.Series(fr_parents).value_counts()"
   ]
  },
  {
   "cell_type": "markdown",
   "id": "d72ebbe9-877c-4fb5-9fc6-ffe352dd312e",
   "metadata": {},
   "source": [
    "### Multi-parent Categories\n",
    "\n",
    "Taxonomy entries can have multiple parent. This can be an indication that one parent is of a generic type."
   ]
  },
  {
   "cell_type": "code",
   "execution_count": 9,
   "id": "646117e9-11f4-4c3a-8e69-ce89ef5c754d",
   "metadata": {},
   "outputs": [
    {
     "data": {
      "text/plain": [
       "<TaxonomyNode en:white-wines>                113\n",
       "<TaxonomyNode en:red-wines>                   93\n",
       "<TaxonomyNode en:cow-cheeses>                 75\n",
       "<TaxonomyNode en:burgundy-wines>              68\n",
       "<TaxonomyNode en:french-cheeses>              55\n",
       "                                            ... \n",
       "<TaxonomyNode en:marzipan>                     1\n",
       "<TaxonomyNode en:dark-chocolate-biscuits>      1\n",
       "<TaxonomyNode en:lentil-sprouts>               1\n",
       "<TaxonomyNode en:spiced-flavoured-oils>        1\n",
       "<TaxonomyNode en:vegetarian-nuggets>           1\n",
       "Name: count, Length: 1378, dtype: int64"
      ]
     },
     "execution_count": 9,
     "metadata": {},
     "output_type": "execute_result"
    }
   ],
   "source": [
    "mpar = [parent for node in tax_nodes for parent in node.parents if len(node.parents) > 1]\n",
    "pd.Series(mpar).value_counts()"
   ]
  },
  {
   "cell_type": "markdown",
   "id": "556584cd-2fbd-4356-b3ab-989c28d0ecd0",
   "metadata": {},
   "source": [
    "### Root Nodes"
   ]
  },
  {
   "cell_type": "code",
   "execution_count": 10,
   "id": "ded3ea73-a815-45d8-b5b6-2c092226c1df",
   "metadata": {},
   "outputs": [
    {
     "name": "stdout",
     "output_type": "stream",
     "text": [
      "52 root nodes with #children\n"
     ]
    },
    {
     "data": {
      "text/plain": [
       "en:meals                                   95\n",
       "en:desserts                                48\n",
       "en:sandwiches                              40\n",
       "en:meats-and-their-products                35\n",
       "en:seafood                                 35\n",
       "en:frozen-foods                            34\n",
       "en:sweet-pies                              26\n",
       "en:variety-packs                           23\n",
       "en:condiments                              20\n",
       "en:terrines                                18\n",
       "en:breaded-products                        17\n",
       "en:fats                                    16\n",
       "en:dairies                                 16\n",
       "en:baby-foods                              16\n",
       "en:meat-alternatives                       14\n",
       "en:food-additives                          12\n",
       "en:cooking-helpers                         11\n",
       "en:specific-products                        9\n",
       "en:canned-foods                             8\n",
       "en:broths                                   8\n",
       "en:cocoa-and-its-products                   8\n",
       "en:spreads                                  7\n",
       "en:sweeteners                               6\n",
       "en:artisan-products                         6\n",
       "en:dietary-supplements                      6\n",
       "en:bee-products                             6\n",
       "en:syrups                                   6\n",
       "en:meal-kits                                5\n",
       "en:snacks                                   5\n",
       "en:chips-and-fries                          5\n",
       "en:dried-products                           5\n",
       "en:festive-foods                            4\n",
       "en:mountain-products                        4\n",
       "en:breakfasts                               4\n",
       "en:fish-and-meat-and-eggs                   4\n",
       "en:crepes-and-galettes                      4\n",
       "en:plant-based-foods-and-beverages          4\n",
       "en:non-food-products                        4\n",
       "en:skewers                                  4\n",
       "en:capsules                                 4\n",
       "en:fermented-foods                          3\n",
       "en:fresh-foods                              3\n",
       "en:purees                                   2\n",
       "en:caviar-substitutes                       2\n",
       "en:refrigerated-foods                       2\n",
       "en:farming-products                         2\n",
       "en:beverages-and-beverages-preparations     2\n",
       "en:pies                                     2\n",
       "en:bread-coverings                          2\n",
       "en:food-decorations                         2\n",
       "en:fried-foods                              1\n",
       "en:freeze-dried-foods                       1\n",
       "dtype: int64"
      ]
     },
     "execution_count": 10,
     "metadata": {},
     "output_type": "execute_result"
    }
   ],
   "source": [
    "root_nodes = [node for node in tax_nodes if len(node.parents) == 0 and len(node.children) != 0]\n",
    "print(f\"{len(root_nodes)} root nodes with #children\")\n",
    "pd.Series(map(lambda node: len(node.children), root_nodes), index = map(lambda x: x.id, root_nodes)).sort_values(ascending=False)"
   ]
  },
  {
   "cell_type": "markdown",
   "id": "79c8ff56-2eab-4ebc-bfa8-884bf7264db0",
   "metadata": {},
   "source": [
    "## Data Pre-Processing"
   ]
  },
  {
   "cell_type": "code",
   "execution_count": 11,
   "id": "61d142f3-d3f3-4127-8e88-6dcb0cfd59f8",
   "metadata": {},
   "outputs": [
    {
     "data": {
      "text/plain": [
       "{'hr': 'Voćna rakija',\n",
       " 'de': 'Obstbrand',\n",
       " 'fi': 'Hedelmäviina',\n",
       " 'no': 'Obstler',\n",
       " 'hu': 'Gyümölcspárlat',\n",
       " 'en': 'Fruit brandy',\n",
       " 'sv': 'Obstler'}"
      ]
     },
     "execution_count": 11,
     "metadata": {},
     "output_type": "execute_result"
    }
   ],
   "source": [
    "categories[\"de:obstbrand\"].names"
   ]
  },
  {
   "cell_type": "markdown",
   "id": "3195982e-aada-4820-bff9-246a4b000569",
   "metadata": {},
   "source": [
    "## Data Inspection"
   ]
  },
  {
   "cell_type": "code",
   "execution_count": 12,
   "id": "cba21fa9-4ef7-42f4-a991-155f1aa91d77",
   "metadata": {},
   "outputs": [
    {
     "name": "stdout",
     "output_type": "stream",
     "text": [
      "<TaxonomyNode sv:svensk-vodka>\n"
     ]
    }
   ],
   "source": [
    "node = list(tax_nodes)[0]\n",
    "print(node)"
   ]
  },
  {
   "cell_type": "code",
   "execution_count": 13,
   "id": "cd27e230-c0f0-41dc-b48e-c63c39b50b94",
   "metadata": {},
   "outputs": [
    {
     "data": {
      "text/plain": [
       "[<TaxonomyNode en:vodka>,\n",
       " <TaxonomyNode en:eaux-de-vie>,\n",
       " <TaxonomyNode en:hard-liquors>,\n",
       " <TaxonomyNode en:distilled-beverages>,\n",
       " <TaxonomyNode en:alcoholic-beverages>,\n",
       " <TaxonomyNode en:beverages>,\n",
       " <TaxonomyNode en:beverages-and-beverages-preparations>]"
      ]
     },
     "execution_count": 13,
     "metadata": {},
     "output_type": "execute_result"
    }
   ],
   "source": [
    "node.get_parents_hierarchy()"
   ]
  },
  {
   "cell_type": "code",
   "execution_count": 14,
   "id": "43ddec1a-e4d7-4bb5-af45-7e1c3b472b6a",
   "metadata": {},
   "outputs": [
    {
     "data": {
      "text/plain": [
       "{'sv': 'Svensk Vodka'}"
      ]
     },
     "execution_count": 14,
     "metadata": {},
     "output_type": "execute_result"
    }
   ],
   "source": [
    "node.names"
   ]
  },
  {
   "cell_type": "code",
   "execution_count": 15,
   "id": "b3c1c2fb-daaa-41d5-807c-72f4d7d8cf67",
   "metadata": {},
   "outputs": [
    {
     "data": {
      "text/plain": [
       "{'de': 'Wodkas',\n",
       " 'lt': 'Vodka',\n",
       " 'ro': 'Vodcă',\n",
       " 'nl': 'Wodkas',\n",
       " 'ja': 'ウォッカ',\n",
       " 'pl': 'Wódka',\n",
       " 'zh': '伏特加',\n",
       " 'bg': 'Водка',\n",
       " 'en': 'Vodka',\n",
       " 'fr': 'Vodkas',\n",
       " 'ru': 'Водка',\n",
       " 'it': 'Vodka',\n",
       " 'es': 'Vodkas',\n",
       " 'hr': 'Votka',\n",
       " 'fi': 'Votka'}"
      ]
     },
     "execution_count": 15,
     "metadata": {},
     "output_type": "execute_result"
    }
   ],
   "source": [
    "node.parents[0].names"
   ]
  },
  {
   "cell_type": "code",
   "execution_count": 16,
   "id": "b16403c9-83e8-4f6b-8315-2c5337838e4d",
   "metadata": {},
   "outputs": [
    {
     "data": {
      "text/plain": [
       "[<TaxonomyNode en:eaux-de-vie>]"
      ]
     },
     "execution_count": 16,
     "metadata": {},
     "output_type": "execute_result"
    }
   ],
   "source": [
    "node.parents[0].parents"
   ]
  },
  {
   "cell_type": "code",
   "execution_count": 17,
   "id": "3110867a-ba79-4f91-a385-fb0130188377",
   "metadata": {},
   "outputs": [
    {
     "data": {
      "text/plain": [
       "{'de': 'Eau de vie',\n",
       " 'hr': 'Eaux de vie',\n",
       " 'it': 'Distillati aromatizzati alla frutta',\n",
       " 'en': 'Eaux de vie',\n",
       " 'fr': 'Eaux-de-vie',\n",
       " 'nl': 'Vruchtendistillaten'}"
      ]
     },
     "execution_count": 17,
     "metadata": {},
     "output_type": "execute_result"
    }
   ],
   "source": [
    "node.parents[0].parents[0].names"
   ]
  },
  {
   "cell_type": "code",
   "execution_count": 18,
   "id": "e5ed9347-fdf6-4773-a50e-d5322e8e7d9b",
   "metadata": {},
   "outputs": [
    {
     "data": {
      "text/plain": [
       "[<TaxonomyNode en:hard-liquors>]"
      ]
     },
     "execution_count": 18,
     "metadata": {},
     "output_type": "execute_result"
    }
   ],
   "source": [
    "node.parents[0].parents[0].parents"
   ]
  },
  {
   "cell_type": "markdown",
   "id": "e7eae665-4d97-4786-8c7a-2bd3216faac0",
   "metadata": {},
   "source": [
    "### Root Nodes"
   ]
  },
  {
   "cell_type": "markdown",
   "id": "fa9c2459-f09b-48e2-a7b4-2f04c5cac557",
   "metadata": {},
   "source": [
    "## Create Taxonomy Graph"
   ]
  },
  {
   "cell_type": "code",
   "execution_count": 19,
   "id": "644a07dc-5549-4e93-861f-b851e80e18bc",
   "metadata": {},
   "outputs": [],
   "source": [
    "def get_node_label(node):\n",
    "    if 'en' in node.names.keys():\n",
    "        return f\"en:{node.names['en']}\"\n",
    "    else:\n",
    "        return f\"{node.id[:3]}{node.names[node.id[:2]]}\"\n",
    "\n",
    "def build_taxonomy_graph(nodes):\n",
    "    G = nx.DiGraph();\n",
    "    for node in nodes:\n",
    "        for parent in node.parents:\n",
    "            # prefer english name\n",
    "            #node_label = node.names.get('en', node.names[node.id[:2]])\n",
    "            #parent_label = parent.names.get('en', parent.names[node.id[:2]])\n",
    "            G.add_edge(parent.id, node.id)\n",
    "    return G"
   ]
  },
  {
   "cell_type": "code",
   "execution_count": 20,
   "id": "fcffcfc0-0bb8-42f0-9d9b-3eb25bb22066",
   "metadata": {},
   "outputs": [],
   "source": [
    "G = build_taxonomy_graph(tax_nodes)"
   ]
  },
  {
   "cell_type": "code",
   "execution_count": 21,
   "id": "0cb4c806-50ab-4b8a-ac9c-cdc8876c54d9",
   "metadata": {},
   "outputs": [
    {
     "name": "stdout",
     "output_type": "stream",
     "text": [
      "#Nodes: 13,384\n",
      "#Edges: 15,689\n"
     ]
    }
   ],
   "source": [
    "print(f\"#Nodes: {len(G.nodes):,}\")\n",
    "print(f\"#Edges: {len(G.edges):,}\")"
   ]
  },
  {
   "cell_type": "code",
   "execution_count": 22,
   "id": "70418900-70b6-4f70-b9aa-4b92566859f4",
   "metadata": {},
   "outputs": [
    {
     "name": "stdout",
     "output_type": "stream",
     "text": [
      "en:chocolate-sprinkles\n"
     ]
    }
   ],
   "source": [
    "n = list(G.nodes)[2]\n",
    "print(n)"
   ]
  },
  {
   "cell_type": "code",
   "execution_count": 23,
   "id": "e5e53cca-a8a4-45af-8063-9172b4dc94c7",
   "metadata": {},
   "outputs": [
    {
     "data": {
      "text/plain": [
       "{'en:dark-chocolate-sprinkles', 'en:milk-chocolate-sprinkles'}"
      ]
     },
     "execution_count": 23,
     "metadata": {},
     "output_type": "execute_result"
    }
   ],
   "source": [
    "nx.descendants(G, n)"
   ]
  },
  {
   "cell_type": "code",
   "execution_count": 24,
   "id": "71a82336-c496-4160-86c8-d413ccb0fddd",
   "metadata": {},
   "outputs": [
    {
     "data": {
      "text/plain": [
       "['en:french-fruit-spirit',\n",
       " 'en:somerset-cider-brandy',\n",
       " 'en:croatian-fruit-spirit',\n",
       " 'en:hungarian-fruit-spirit',\n",
       " 'en:austrian-fruit-spirit',\n",
       " 'en:german-fruit-spirit',\n",
       " 'en:palinka',\n",
       " 'en:bulgarian-fruit-spirit',\n",
       " 'en:slovenian-fruit-spirit',\n",
       " 'en:romanian-fruit-spirit',\n",
       " 'en:italian-fruit-spirit']"
      ]
     },
     "execution_count": 24,
     "metadata": {},
     "output_type": "execute_result"
    }
   ],
   "source": [
    "list(G.successors(\"de:obstbrand\"))"
   ]
  },
  {
   "cell_type": "markdown",
   "id": "88c9d2f7-835f-4466-9d62-2857cfab2b3d",
   "metadata": {},
   "source": [
    "## Root Nodes and Leaf Nodes"
   ]
  },
  {
   "cell_type": "code",
   "execution_count": 25,
   "id": "c7664f66-b9d7-435e-aaf5-cf26418980d4",
   "metadata": {},
   "outputs": [],
   "source": [
    "root_nodes = [node for node in G.nodes if G.in_degree(node) == 0]\n",
    "leaf_nodes = [node for node in G.nodes if G.out_degree(node) == 0]"
   ]
  },
  {
   "cell_type": "code",
   "execution_count": 26,
   "id": "b84c5838-07f3-4974-a75f-ae128f0c33b8",
   "metadata": {},
   "outputs": [
    {
     "name": "stdout",
     "output_type": "stream",
     "text": [
      "#root nodes: 52\n",
      "#leaf nodes: 10715\n"
     ]
    }
   ],
   "source": [
    "print(\"#root nodes:\", len(root_nodes))\n",
    "print(\"#leaf nodes:\", len(leaf_nodes))"
   ]
  },
  {
   "cell_type": "markdown",
   "id": "e0379225-c45e-4a00-955f-06c501edb81a",
   "metadata": {},
   "source": [
    "### Inspect Root Nodes\n",
    "\n",
    "Hypothesis: root nodes are too generic"
   ]
  },
  {
   "cell_type": "code",
   "execution_count": 27,
   "id": "f9fcaf60-b59b-42ba-bcaf-f9b9dc2d1763",
   "metadata": {},
   "outputs": [
    {
     "data": {
      "text/plain": [
       "[('en:beverages-and-beverages-preparations', [4640, 2]),\n",
       " ('en:plant-based-foods-and-beverages', [3568, 4]),\n",
       " ('en:meats-and-their-products', [1249, 35]),\n",
       " ('en:dairies', [1024, 16]),\n",
       " ('en:fermented-foods', [826, 3]),\n",
       " ('en:snacks', [754, 5]),\n",
       " ('en:meals', [702, 95]),\n",
       " ('en:seafood', [617, 35]),\n",
       " ('en:condiments', [607, 20]),\n",
       " ('en:desserts', [483, 48]),\n",
       " ('en:spreads', [425, 7]),\n",
       " ('en:breakfasts', [353, 4]),\n",
       " ('en:fats', [333, 16]),\n",
       " ('en:frozen-foods', [328, 34]),\n",
       " ('en:canned-foods', [195, 8]),\n",
       " ('en:sweeteners', [183, 6]),\n",
       " ('en:dried-products', [166, 5]),\n",
       " ('en:cocoa-and-its-products', [162, 8]),\n",
       " ('en:farming-products', [129, 2]),\n",
       " ('en:bee-products', [115, 6]),\n",
       " ('en:sandwiches', [107, 40]),\n",
       " ('en:fresh-foods', [87, 3]),\n",
       " ('en:fish-and-meat-and-eggs', [83, 4]),\n",
       " ('en:baby-foods', [82, 16]),\n",
       " ('en:syrups', [61, 6]),\n",
       " ('en:festive-foods', [60, 4]),\n",
       " ('en:meat-alternatives', [59, 14]),\n",
       " ('en:food-additives', [47, 12]),\n",
       " ('en:sweet-pies', [47, 26]),\n",
       " ('en:breaded-products', [45, 17]),\n",
       " ('en:chips-and-fries', [45, 5]),\n",
       " ('en:specific-products', [38, 9]),\n",
       " ('en:cooking-helpers', [38, 11]),\n",
       " ('en:terrines', [29, 18]),\n",
       " ('en:broths', [29, 8]),\n",
       " ('en:non-food-products', [26, 4]),\n",
       " ('en:variety-packs', [24, 23]),\n",
       " ('en:purees', [24, 2]),\n",
       " ('en:crepes-and-galettes', [21, 4]),\n",
       " ('en:dietary-supplements', [17, 6]),\n",
       " ('en:mountain-products', [16, 4]),\n",
       " ('en:skewers', [15, 4]),\n",
       " ('en:bread-coverings', [11, 2]),\n",
       " ('en:capsules', [9, 4]),\n",
       " ('en:freeze-dried-foods', [8, 1]),\n",
       " ('en:artisan-products', [7, 6]),\n",
       " ('en:food-decorations', [7, 2]),\n",
       " ('en:meal-kits', [5, 5]),\n",
       " ('en:refrigerated-foods', [5, 2]),\n",
       " ('en:pies', [4, 2]),\n",
       " ('en:caviar-substitutes', [2, 2]),\n",
       " ('en:fried-foods', [1, 1])]"
      ]
     },
     "metadata": {},
     "output_type": "display_data"
    }
   ],
   "source": [
    "def child_info(id: str):\n",
    "    children_ids = [child.id for child in categories[id].children]\n",
    "    return nodes_info(G, children_ids)\n",
    "\n",
    "def nodes_info(G, nodes):\n",
    "    counts = {node: [len(nx.descendants(G, node)), len(list(G.successors(node)))] for node in nodes}\n",
    "    display(sorted(counts.items(), key=lambda x: x[1][0], reverse=True))    \n",
    "\n",
    "nodes_info(G, root_nodes)"
   ]
  },
  {
   "cell_type": "code",
   "execution_count": 28,
   "id": "fcc9bade-155e-4f7a-a5bb-be4eddfc0928",
   "metadata": {},
   "outputs": [
    {
     "data": {
      "text/plain": [
       "[('en:squid-and-spicy-tomato-sauce-pie', [0, 0]), ('en:mushroom-pies', [0, 0])]"
      ]
     },
     "metadata": {},
     "output_type": "display_data"
    }
   ],
   "source": [
    "# 'en:fried-foods', 'en:caviar-substitutes'\n",
    "\n",
    "child_info('en:two-crust-pies')"
   ]
  },
  {
   "cell_type": "code",
   "execution_count": 29,
   "id": "5c548760-549e-4c72-ba80-3182e3127401",
   "metadata": {},
   "outputs": [],
   "source": [
    "def show_child_count(G, nodes):\n",
    "    counts = {node: len(list(G.successors(node))) for node in nodes}\n",
    "    display(list(sort_by_count(counts).items()))\n",
    "\n",
    "def show_desc_count(G, nodes):\n",
    "    counts = {node: len(nx.descendents(G, node)) for node in nodes}\n",
    "    display(list(sort_by_count(counts).items()))\n",
    "\n",
    "def sort_by_count(d: dict):\n",
    "    return dict(sorted(d.items(), key=lambda x: x[1], reverse=True))"
   ]
  },
  {
   "cell_type": "code",
   "execution_count": 30,
   "id": "de241ca6-df41-422c-82c4-9f5ff546a2f1",
   "metadata": {},
   "outputs": [
    {
     "data": {
      "text/plain": [
       "[('en:meals', 95),\n",
       " ('en:desserts', 48),\n",
       " ('en:sandwiches', 40),\n",
       " ('en:meats-and-their-products', 35),\n",
       " ('en:seafood', 35),\n",
       " ('en:frozen-foods', 34),\n",
       " ('en:sweet-pies', 26),\n",
       " ('en:variety-packs', 23),\n",
       " ('en:condiments', 20),\n",
       " ('en:terrines', 18),\n",
       " ('en:breaded-products', 17),\n",
       " ('en:fats', 16),\n",
       " ('en:dairies', 16),\n",
       " ('en:baby-foods', 16),\n",
       " ('en:meat-alternatives', 14),\n",
       " ('en:food-additives', 12),\n",
       " ('en:cooking-helpers', 11),\n",
       " ('en:specific-products', 9),\n",
       " ('en:broths', 8),\n",
       " ('en:canned-foods', 8),\n",
       " ('en:cocoa-and-its-products', 8),\n",
       " ('en:spreads', 7),\n",
       " ('en:bee-products', 6),\n",
       " ('en:dietary-supplements', 6),\n",
       " ('en:sweeteners', 6),\n",
       " ('en:artisan-products', 6),\n",
       " ('en:syrups', 6),\n",
       " ('en:meal-kits', 5),\n",
       " ('en:snacks', 5),\n",
       " ('en:dried-products', 5),\n",
       " ('en:chips-and-fries', 5),\n",
       " ('en:breakfasts', 4),\n",
       " ('en:mountain-products', 4),\n",
       " ('en:crepes-and-galettes', 4),\n",
       " ('en:skewers', 4),\n",
       " ('en:fish-and-meat-and-eggs', 4),\n",
       " ('en:capsules', 4),\n",
       " ('en:non-food-products', 4),\n",
       " ('en:plant-based-foods-and-beverages', 4),\n",
       " ('en:festive-foods', 4),\n",
       " ('en:fermented-foods', 3),\n",
       " ('en:fresh-foods', 3),\n",
       " ('en:farming-products', 2),\n",
       " ('en:pies', 2),\n",
       " ('en:caviar-substitutes', 2),\n",
       " ('en:refrigerated-foods', 2),\n",
       " ('en:beverages-and-beverages-preparations', 2),\n",
       " ('en:bread-coverings', 2),\n",
       " ('en:food-decorations', 2),\n",
       " ('en:purees', 2),\n",
       " ('en:fried-foods', 1),\n",
       " ('en:freeze-dried-foods', 1)]"
      ]
     },
     "metadata": {},
     "output_type": "display_data"
    }
   ],
   "source": [
    "show_child_count(G, root_nodes)"
   ]
  },
  {
   "cell_type": "code",
   "execution_count": 31,
   "id": "5ab1cf92-92ba-4182-ab7d-401721b95fcf",
   "metadata": {},
   "outputs": [
    {
     "data": {
      "text/plain": [
       "[('en:beverages-and-beverages-preparations', 4640),\n",
       " ('en:plant-based-foods-and-beverages', 3568),\n",
       " ('en:meats-and-their-products', 1249),\n",
       " ('en:dairies', 1024),\n",
       " ('en:fermented-foods', 826),\n",
       " ('en:snacks', 754),\n",
       " ('en:meals', 702),\n",
       " ('en:seafood', 617),\n",
       " ('en:condiments', 607),\n",
       " ('en:desserts', 483),\n",
       " ('en:spreads', 425),\n",
       " ('en:breakfasts', 353),\n",
       " ('en:fats', 333),\n",
       " ('en:frozen-foods', 328),\n",
       " ('en:canned-foods', 195),\n",
       " ('en:sweeteners', 183),\n",
       " ('en:dried-products', 166),\n",
       " ('en:cocoa-and-its-products', 162),\n",
       " ('en:farming-products', 129),\n",
       " ('en:bee-products', 115),\n",
       " ('en:sandwiches', 107),\n",
       " ('en:fresh-foods', 87),\n",
       " ('en:fish-and-meat-and-eggs', 83),\n",
       " ('en:baby-foods', 82),\n",
       " ('en:syrups', 61),\n",
       " ('en:festive-foods', 60),\n",
       " ('en:meat-alternatives', 59),\n",
       " ('en:food-additives', 47),\n",
       " ('en:sweet-pies', 47),\n",
       " ('en:breaded-products', 45),\n",
       " ('en:chips-and-fries', 45),\n",
       " ('en:specific-products', 38),\n",
       " ('en:cooking-helpers', 38),\n",
       " ('en:terrines', 29),\n",
       " ('en:broths', 29),\n",
       " ('en:non-food-products', 26),\n",
       " ('en:variety-packs', 24),\n",
       " ('en:purees', 24),\n",
       " ('en:crepes-and-galettes', 21),\n",
       " ('en:dietary-supplements', 17),\n",
       " ('en:mountain-products', 16),\n",
       " ('en:skewers', 15),\n",
       " ('en:bread-coverings', 11),\n",
       " ('en:capsules', 9),\n",
       " ('en:freeze-dried-foods', 8),\n",
       " ('en:artisan-products', 7),\n",
       " ('en:food-decorations', 7),\n",
       " ('en:meal-kits', 5),\n",
       " ('en:refrigerated-foods', 5),\n",
       " ('en:pies', 4),\n",
       " ('en:caviar-substitutes', 2),\n",
       " ('en:fried-foods', 1)]"
      ]
     },
     "execution_count": 31,
     "metadata": {},
     "output_type": "execute_result"
    }
   ],
   "source": [
    "root_counts = {node: len(nx.descendants(G, node)) for node in root_nodes}\n",
    "list(sort_by_count(root_counts).items())"
   ]
  },
  {
   "cell_type": "code",
   "execution_count": 32,
   "id": "97951f4d-158a-4d45-b4f4-b06f6cf6ee5c",
   "metadata": {},
   "outputs": [
    {
     "data": {
      "text/plain": [
       "[<TaxonomyNode en:squid-and-spicy-tomato-sauce-pie>,\n",
       " <TaxonomyNode en:mushroom-pies>]"
      ]
     },
     "execution_count": 32,
     "metadata": {},
     "output_type": "execute_result"
    }
   ],
   "source": [
    "categories['en:two-crust-pies'].children"
   ]
  },
  {
   "cell_type": "code",
   "execution_count": 33,
   "id": "5df292d6-42c9-4782-a4cf-f0e90955b442",
   "metadata": {},
   "outputs": [
    {
     "name": "stdout",
     "output_type": "stream",
     "text": [
      "['sv:svensk-vodka', 'en:milk-chocolate-sprinkles', 'en:haitian-rums', 'en:nougat-ice-cream-tubs', 'en:smoked-chicken-breast', 'en:sorbets-on-stick', 'en:soft-ripened-round-cheese-with-bloomy-rind-5-to-11-fat', 'en:still-soft-drink-with-tea-extract-with-sugar-and-artificial-sweetener-s', 'en:tatin-tart', 'en:baker-s-yeast', 'en:cantaloupe-melon-pulp', 'de:pfälzer', 'en:rabbit-fresh-meat', 'en:poultry-ham-in-cube', 'fr:rhum-de-sucrerie-de-la-baie-du-galion', 'en:filled-fritter-garnished-with-shrimps-and-vegetables-and-poultry-and-meat', 'en:little-millet', 'de:badischer', 'bg:любимец', 'nl:groentemengsels-voor-spaghetti-en-macaroni']\n"
     ]
    }
   ],
   "source": [
    "print(leaf_nodes[:20])"
   ]
  },
  {
   "cell_type": "markdown",
   "id": "730cdbc6-5c61-4cea-9410-d99066269c9b",
   "metadata": {},
   "source": [
    "## Nodes with most descendants"
   ]
  },
  {
   "cell_type": "code",
   "execution_count": 34,
   "id": "5b9dfcc4-c2d9-473c-8941-1a7264590f13",
   "metadata": {},
   "outputs": [],
   "source": [
    "def count_descendants(G: nx.DiGraph):\n",
    "    all_counts = {}\n",
    "    for node in G.nodes:\n",
    "        all_counts[node] = len(nx.descendants(G, node))\n",
    "    return all_counts\n",
    "\n",
    "def sort_by_count(d: dict):\n",
    "    return dict(sorted(d.items(), key=lambda x: x[1], reverse=True))"
   ]
  },
  {
   "cell_type": "code",
   "execution_count": 35,
   "id": "6a0d6eab-c4a8-4c99-8ca1-eca6f09f158e",
   "metadata": {},
   "outputs": [],
   "source": [
    "counts = count_descendants(G)"
   ]
  },
  {
   "cell_type": "code",
   "execution_count": 36,
   "id": "931c593d-8a8f-4671-91de-f993e36f764b",
   "metadata": {},
   "outputs": [],
   "source": [
    "sorted_counts = sort_by_count(counts)"
   ]
  },
  {
   "cell_type": "code",
   "execution_count": 37,
   "id": "b89a1fec-d71c-4348-a33a-1282b9517374",
   "metadata": {},
   "outputs": [
    {
     "data": {
      "text/plain": [
       "[('en:beverages-and-beverages-preparations', 4640),\n",
       " ('en:beverages', 4508),\n",
       " ('en:alcoholic-beverages', 4092),\n",
       " ('en:plant-based-foods-and-beverages', 3568),\n",
       " ('en:wines', 3567),\n",
       " ('en:plant-based-foods', 3325),\n",
       " ('en:wines-from-france', 1871),\n",
       " ('en:burgundy-wines', 1436),\n",
       " ('en:meats-and-their-products', 1249),\n",
       " ('en:red-wines', 1124),\n",
       " ('en:fruits-and-vegetables-based-foods', 1080),\n",
       " ('en:white-wines', 1037),\n",
       " ('en:dairies', 1024),\n",
       " ('en:cereals-and-potatoes', 861),\n",
       " ('en:fermented-foods', 826),\n",
       " ('en:wines-from-italy', 820),\n",
       " ('en:fermented-milk-products', 800),\n",
       " ('en:snacks', 754),\n",
       " ('en:meals', 702),\n",
       " ('en:sweet-snacks', 652)]"
      ]
     },
     "execution_count": 37,
     "metadata": {},
     "output_type": "execute_result"
    }
   ],
   "source": [
    "list(sorted_counts.items())[:20]"
   ]
  },
  {
   "cell_type": "markdown",
   "id": "11c9a9ff-8dee-4289-9b23-58eacdc916ce",
   "metadata": {},
   "source": [
    "## Nodes with most children"
   ]
  },
  {
   "cell_type": "code",
   "execution_count": 38,
   "id": "eb2cf17c-2855-4e95-8aca-0fc3a0ca8d60",
   "metadata": {},
   "outputs": [],
   "source": [
    "child_count = {node: G.out_degree(node) for node in G.nodes}"
   ]
  },
  {
   "cell_type": "code",
   "execution_count": 39,
   "id": "df8624ef-7d63-4883-8ede-5ef01866cff6",
   "metadata": {},
   "outputs": [],
   "source": [
    "sorted_child_count = sort_by_count(child_count)"
   ]
  },
  {
   "cell_type": "code",
   "execution_count": 40,
   "id": "e1901fd9-54b5-47a1-8bf9-7fd9cba1d827",
   "metadata": {},
   "outputs": [
    {
     "data": {
      "text/plain": [
       "[('en:wines-from-italy', 563),\n",
       " ('en:wines-from-france', 279),\n",
       " ('en:wines-from-spain', 146),\n",
       " ('fr:chassagne-montrachet', 144),\n",
       " ('en:wines-from-greece', 129),\n",
       " ('fr:nuits-saint-georges', 129),\n",
       " ('fr:beaune', 121),\n",
       " ('en:white-wines', 115),\n",
       " ('en:red-wines', 100),\n",
       " ('en:fishes', 96),\n",
       " ('en:meals', 95),\n",
       " ('en:burgundy-wines', 95),\n",
       " ('en:pastas', 94),\n",
       " ('en:sauces', 91),\n",
       " ('en:cow-cheeses', 90),\n",
       " ('en:cheeses', 85),\n",
       " ('en:wines-from-portugal', 75),\n",
       " ('fr:saint-aubin', 72),\n",
       " ('fr:savigny-les-beaune', 71),\n",
       " ('en:wines-from-germany', 68),\n",
       " ('en:french-cheeses', 60),\n",
       " ('fr:morey-saint-denis', 57),\n",
       " ('en:wines-from-bulgaria', 56),\n",
       " ('en:poultries', 53),\n",
       " ('en:italian-cheeses', 53),\n",
       " ('en:plant-based-foods', 52),\n",
       " ('fr:puligny-montrachet', 52),\n",
       " ('en:vegetables', 52),\n",
       " ('fr:alsace-grand-cru', 51),\n",
       " ('en:chablis', 50)]"
      ]
     },
     "execution_count": 40,
     "metadata": {},
     "output_type": "execute_result"
    }
   ],
   "source": [
    "list(sorted_child_count.items())[:30]"
   ]
  }
 ],
 "metadata": {
  "kernelspec": {
   "display_name": "Python 3 (ipykernel)",
   "language": "python",
   "name": "python3"
  },
  "language_info": {
   "codemirror_mode": {
    "name": "ipython",
    "version": 3
   },
   "file_extension": ".py",
   "mimetype": "text/x-python",
   "name": "python",
   "nbconvert_exporter": "python",
   "pygments_lexer": "ipython3",
   "version": "3.11.6"
  }
 },
 "nbformat": 4,
 "nbformat_minor": 5
}
