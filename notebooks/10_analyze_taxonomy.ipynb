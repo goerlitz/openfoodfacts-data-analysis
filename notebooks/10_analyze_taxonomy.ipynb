{
 "cells": [
  {
   "cell_type": "markdown",
   "id": "40ba8c5b-0c72-402d-9fcd-1b6e9bde15cb",
   "metadata": {},
   "source": [
    "# OpenFoodFacts - Analysis of Taxonomies\n",
    "\n",
    "- packaging shapes taxonomy\n",
    "- packaging materials taxonomy\n",
    "- categories taxonomy (too big to display!)"
   ]
  },
  {
   "cell_type": "code",
   "execution_count": 1,
   "id": "c0c9d0ce-c2da-4ae4-a2b4-43c424fac335",
   "metadata": {},
   "outputs": [
    {
     "name": "stdout",
     "output_type": "stream",
     "text": [
      "Requirement already satisfied: python-slugify in /Users/goerlitz/git-repos/groceries-data/off/venv/lib/python3.11/site-packages (8.0.1)\n",
      "Requirement already satisfied: text-unidecode>=1.3 in /Users/goerlitz/git-repos/groceries-data/off/venv/lib/python3.11/site-packages (from python-slugify) (1.3)\n"
     ]
    }
   ],
   "source": [
    "!pip install python-slugify"
   ]
  },
  {
   "cell_type": "code",
   "execution_count": 2,
   "id": "bc94a877-eca7-4720-8ed1-d77315717128",
   "metadata": {},
   "outputs": [],
   "source": [
    "from urllib.request import urlopen\n",
    "from slugify import slugify"
   ]
  },
  {
   "cell_type": "code",
   "execution_count": 3,
   "id": "76ddc11c-e731-4ba2-a54c-0244ac14e0ff",
   "metadata": {},
   "outputs": [],
   "source": [
    "#url = \"https://github.com/openfoodfacts/openfoodfacts-server/raw/main/taxonomies/packaging_shapes.txt\"\n",
    "url = \"https://github.com/openfoodfacts/openfoodfacts-server/raw/main/taxonomies/packaging_materials.txt\"\n",
    "#url = \"https://github.com/openfoodfacts/openfoodfacts-server/raw/main/taxonomies/categories.txt\""
   ]
  },
  {
   "cell_type": "code",
   "execution_count": 4,
   "id": "5a737eac-ba5e-4e61-b595-4e2217ff31b7",
   "metadata": {},
   "outputs": [],
   "source": [
    "with urlopen(url) as response:\n",
    "   txt = response.read()"
   ]
  },
  {
   "cell_type": "markdown",
   "id": "72a184e6-d0d8-494f-9a74-55f6437233ec",
   "metadata": {},
   "source": [
    "## Parse taxonomy and create a list of edges between the categories (nodes)"
   ]
  },
  {
   "cell_type": "code",
   "execution_count": 5,
   "id": "70c4220b-0276-424f-a52d-a850aa73d1c0",
   "metadata": {},
   "outputs": [
    {
     "name": "stdout",
     "output_type": "stream",
     "text": [
      "#edges: 163\n"
     ]
    }
   ],
   "source": [
    "parents = []\n",
    "dupes = []\n",
    "taxonomy = []\n",
    "nodes = {}\n",
    "edges = []\n",
    "\n",
    "\n",
    "for i, line in enumerate(txt.decode('UTF-8').splitlines()):\n",
    "    \n",
    "    if line.startswith('<en:'):\n",
    "        parents.append(line[1:])\n",
    "    \n",
    "    if line.strip() == '':\n",
    "        # clear parents when block ends\n",
    "        parents = []\n",
    "    \n",
    "    if line.startswith('en:'):\n",
    "        first_name = line.split(',')[0].strip()\n",
    "        node = nodes.get(first_name)\n",
    "\n",
    "        # check for duplicates\n",
    "        if node != None:\n",
    "            dupes.append(f\"'{first_name}' in line {i}\")\n",
    "\n",
    "        nodes[first_name] = parents\n",
    "\n",
    "        slug = slugify(first_name[3:])\n",
    "        if (len(parents) != 0):\n",
    "            for p in parents:\n",
    "                edges.append(f\"  {slugify(p[3:])} --- {slug}\")\n",
    "        else:\n",
    "            edges.append(f\"  {slug}\")\n",
    "\n",
    "print(\"#edges:\", len(edges))"
   ]
  },
  {
   "cell_type": "markdown",
   "id": "ba3e6916-fd40-48b0-b226-584a9629a0c0",
   "metadata": {},
   "source": [
    "## Visualize Taxonomy Graph with Mermaid"
   ]
  },
  {
   "cell_type": "code",
   "execution_count": 6,
   "id": "7bbf166b-1929-42b7-a95f-50e3b3737602",
   "metadata": {},
   "outputs": [
    {
     "data": {
      "text/html": [
       "<img src=\"https://mermaid.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\"/>"
      ],
      "text/plain": [
       "<IPython.core.display.Image object>"
      ]
     },
     "metadata": {},
     "output_type": "display_data"
    }
   ],
   "source": [
    "# https://mermaid.js.org/config/Tutorials.html#jupyter-integration-with-mermaid-js\n",
    "import base64\n",
    "from IPython.display import Image, display\n",
    "import matplotlib.pyplot as plt\n",
    "\n",
    "def mm(graph):\n",
    "    graphbytes = graph.encode(\"utf8\")\n",
    "    base64_bytes = base64.b64encode(graphbytes)\n",
    "    base64_string = base64_bytes.decode(\"ascii\")\n",
    "    display(Image(url=\"https://mermaid.ink/img/\" + base64_string))\n",
    "\n",
    "# CAUTION: if the graph has too many edges, it will not render, because it is send as a very loooooong base64 encoded url param string that exceeds the limit.\n",
    "graph = '\\n'.join(['graph LR'] + edges)\n",
    "mm(graph)"
   ]
  }
 ],
 "metadata": {
  "kernelspec": {
   "display_name": "Python 3 (ipykernel)",
   "language": "python",
   "name": "python3"
  },
  "language_info": {
   "codemirror_mode": {
    "name": "ipython",
    "version": 3
   },
   "file_extension": ".py",
   "mimetype": "text/x-python",
   "name": "python",
   "nbconvert_exporter": "python",
   "pygments_lexer": "ipython3",
   "version": "3.11.5"
  }
 },
 "nbformat": 4,
 "nbformat_minor": 5
}
